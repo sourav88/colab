{
  "nbformat": 4,
  "nbformat_minor": 0,
  "metadata": {
    "colab": {
      "provenance": [],
      "authorship_tag": "ABX9TyNxHM6goa9OkC6NQvvNbHkG",
      "include_colab_link": true
    },
    "kernelspec": {
      "name": "python3",
      "display_name": "Python 3"
    },
    "language_info": {
      "name": "python"
    }
  },
  "cells": [
    {
      "cell_type": "markdown",
      "metadata": {
        "id": "view-in-github",
        "colab_type": "text"
      },
      "source": [
        "<a href=\"https://colab.research.google.com/github/sourav88/colab/blob/practice/5th_practice_31may_dict_1_30.ipynb\" target=\"_parent\"><img src=\"https://colab.research.google.com/assets/colab-badge.svg\" alt=\"Open In Colab\"/></a>"
      ]
    },
    {
      "cell_type": "code",
      "execution_count": null,
      "metadata": {
        "colab": {
          "base_uri": "https://localhost:8080/"
        },
        "id": "3tAl7yoAv5J6",
        "outputId": "0f20ec2c-1fdf-44ce-dec9-5f556cd1e369"
      },
      "outputs": [
        {
          "output_type": "stream",
          "name": "stdout",
          "text": [
            "  fox brown quick The\n"
          ]
        }
      ],
      "source": [
        "#@title 1.Write a Python program to reverse words in a string.\n",
        "n=\"The quick brown fox\"\n",
        "st=' '\n",
        "for i in n:\n",
        "  s=n.split(\" \")\n",
        "s.reverse()\n",
        "for i in s:\n",
        "  st+=' '+i\n",
        "print(st)"
      ]
    },
    {
      "cell_type": "code",
      "source": [
        "n=\"The quick brown fox\"\n",
        "st=' '.join(n.split(' ')[::-1])\n",
        "print(st)"
      ],
      "metadata": {
        "colab": {
          "base_uri": "https://localhost:8080/"
        },
        "id": "4oDS6TK4yyQ9",
        "outputId": "d0c1c218-a292-4d4f-ecf9-2acb1b8d509f"
      },
      "execution_count": null,
      "outputs": [
        {
          "output_type": "stream",
          "name": "stdout",
          "text": [
            "fox brown quick The\n"
          ]
        }
      ]
    },
    {
      "cell_type": "code",
      "source": [
        "#@title 2.Write a Python program to reverse a string.\n",
        "n='sourav'\n",
        "print(n[::-1])"
      ],
      "metadata": {
        "colab": {
          "base_uri": "https://localhost:8080/"
        },
        "id": "Tq_oolvYzYQi",
        "outputId": "a35c7f61-6455-4344-e61a-3717e2af8a97"
      },
      "execution_count": null,
      "outputs": [
        {
          "output_type": "stream",
          "name": "stdout",
          "text": [
            "varuos\n"
          ]
        }
      ]
    },
    {
      "cell_type": "code",
      "source": [
        "n='sourav'\n",
        "st=''\n",
        "for i in n:\n",
        "  st=i+st\n",
        "print(st)"
      ],
      "metadata": {
        "colab": {
          "base_uri": "https://localhost:8080/"
        },
        "id": "RF3jjZsN1RIl",
        "outputId": "1d59d0f7-86ea-4542-dd86-b60d1a71a07f"
      },
      "execution_count": null,
      "outputs": [
        {
          "output_type": "stream",
          "name": "stdout",
          "text": [
            "varuos\n"
          ]
        }
      ]
    },
    {
      "cell_type": "markdown",
      "source": [
        "# **`Dictionary`**"
      ],
      "metadata": {
        "id": "f7poZf6d6P9P"
      }
    },
    {
      "cell_type": "code",
      "source": [
        "#@title 1.Write a Python script to sort (ascending and descending) a dictionary by value.\n",
        "d = {1: 2, 3: 4, 4: 3, 2: 1, 0: 0}\n",
        "dic=dict(sorted(d.items(), key=lambda x: x[1]))\n",
        "print(dic)"
      ],
      "metadata": {
        "colab": {
          "base_uri": "https://localhost:8080/"
        },
        "id": "RRGmTbhr6V1_",
        "outputId": "dcda45e8-e0d8-49a6-d9a3-5dc02bbf12da"
      },
      "execution_count": null,
      "outputs": [
        {
          "output_type": "stream",
          "name": "stdout",
          "text": [
            "{0: 0, 2: 1, 1: 2, 4: 3, 3: 4}\n"
          ]
        }
      ]
    },
    {
      "cell_type": "code",
      "source": [
        "import operator\n",
        "d = {1: 2, 3: 4, 4: 3, 2: 1, 0: 0}\n",
        "dic=dict(sorted(d.items(), key=operator.itemgetter(1)))\n",
        "print(dic)"
      ],
      "metadata": {
        "colab": {
          "base_uri": "https://localhost:8080/"
        },
        "id": "rM5ZXKME7xca",
        "outputId": "348b8656-448b-4d8b-9d33-886cd4265349"
      },
      "execution_count": null,
      "outputs": [
        {
          "output_type": "stream",
          "name": "stdout",
          "text": [
            "{0: 0, 2: 1, 1: 2, 4: 3, 3: 4}\n"
          ]
        }
      ]
    },
    {
      "cell_type": "code",
      "source": [
        "#@title 2.Write a Python script to add a key to a dictionary.\n",
        "di={0: 10, 1: 20}\n",
        "di[2]=30\n",
        "print(di)"
      ],
      "metadata": {
        "colab": {
          "base_uri": "https://localhost:8080/"
        },
        "id": "gvY6ABjl_tCA",
        "outputId": "d5e412d0-a3fa-46f4-9335-4d4570fc23b7"
      },
      "execution_count": null,
      "outputs": [
        {
          "output_type": "stream",
          "name": "stdout",
          "text": [
            "{0: 10, 1: 20, 2: 30}\n"
          ]
        }
      ]
    },
    {
      "cell_type": "code",
      "source": [
        "di={0: 10, 1: 20}\n",
        "di.update({2:30})\n",
        "print(di)"
      ],
      "metadata": {
        "colab": {
          "base_uri": "https://localhost:8080/"
        },
        "id": "7-8B11taChCd",
        "outputId": "009e23da-3514-42ba-9504-ca64cbdf1566"
      },
      "execution_count": null,
      "outputs": [
        {
          "output_type": "stream",
          "name": "stdout",
          "text": [
            "{0: 10, 1: 20, 2: 30}\n"
          ]
        }
      ]
    },
    {
      "cell_type": "code",
      "source": [
        "#@title 3. Write a Python script to concatenate the following dictionaries to create a new one.\n",
        "dic1={1:10, 2:20}\n",
        "dic2={3:30, 4:40}\n",
        "dic3={5:50,6:60}\n",
        "dic={}\n",
        "for i in dic1,dic2,dic3:\n",
        "  dic.update(i)\n",
        "print(dic)"
      ],
      "metadata": {
        "colab": {
          "base_uri": "https://localhost:8080/"
        },
        "id": "uaz_eXfUCvga",
        "outputId": "771f6f82-08c8-437a-e4ef-1a4ea4db8c11"
      },
      "execution_count": null,
      "outputs": [
        {
          "output_type": "stream",
          "name": "stdout",
          "text": [
            "{1: 10, 2: 20, 3: 30, 4: 40, 5: 50, 6: 60}\n"
          ]
        }
      ]
    },
    {
      "cell_type": "code",
      "source": [
        "#@title 4.Write a Python script to check whether a given key already exists in a dictionary.\n",
        "d = {1: 10, 2: 20, 3: 30, 4: 40, 5: 50, 6: 60}\n",
        "def check(i):\n",
        "  if i in d:\n",
        "    print(\"present\")\n",
        "  else:\n",
        "    print(\"not present\")\n",
        "check(3)\n",
        "check(9)"
      ],
      "metadata": {
        "colab": {
          "base_uri": "https://localhost:8080/"
        },
        "id": "0q6GcKj7DOUR",
        "outputId": "fa36769a-9443-43ae-e7b6-43519a8188de"
      },
      "execution_count": null,
      "outputs": [
        {
          "output_type": "stream",
          "name": "stdout",
          "text": [
            "present\n",
            "not present\n"
          ]
        }
      ]
    },
    {
      "cell_type": "code",
      "source": [
        "#@ 5.Write a Python program to iterate over dictionaries using for loops.\n",
        "d = {'x': 10, 'y': 20, 'z': 30}\n",
        "for k,v in d.items():\n",
        "  print(k,v)"
      ],
      "metadata": {
        "colab": {
          "base_uri": "https://localhost:8080/"
        },
        "id": "u_njp3RHIw2A",
        "outputId": "dac32538-abac-4fbf-a8da-bf99235d1de1"
      },
      "execution_count": null,
      "outputs": [
        {
          "output_type": "stream",
          "name": "stdout",
          "text": [
            "x 10\n",
            "y 20\n",
            "z 30\n"
          ]
        }
      ]
    },
    {
      "cell_type": "code",
      "source": [
        "#@title 6.Write a Python script to generate and print a dictionary that contains a number (between 1 and n) in the form (x, x*x).\n",
        "n=10\n",
        "dit={}\n",
        "for i in range(1,n+1):\n",
        "  dit[i]=i*i\n",
        "print(dit)\n"
      ],
      "metadata": {
        "colab": {
          "base_uri": "https://localhost:8080/"
        },
        "id": "EHkZml9zLV5w",
        "outputId": "f3cbec2e-c227-438a-c44c-e0da35eb1776"
      },
      "execution_count": null,
      "outputs": [
        {
          "output_type": "stream",
          "name": "stdout",
          "text": [
            "{1: 1, 2: 4, 3: 9, 4: 16, 5: 25, 6: 36, 7: 49, 8: 64, 9: 81, 10: 100}\n"
          ]
        }
      ]
    },
    {
      "cell_type": "code",
      "source": [
        "#@title 7.Write a Python script to print a dictionary where the keys are numbers between 1 and 15 (both included) and the values are the square of the keys.\n",
        "n=15\n",
        "d={}\n",
        "for i in range(1,n+1):\n",
        "  d[i]=i*i\n",
        "print(d)"
      ],
      "metadata": {
        "colab": {
          "base_uri": "https://localhost:8080/"
        },
        "id": "GRqIy8jaTu_8",
        "outputId": "18d27669-7ef6-4a3f-c8bf-262e9aaee1b7"
      },
      "execution_count": null,
      "outputs": [
        {
          "output_type": "stream",
          "name": "stdout",
          "text": [
            "{1: 1, 2: 4, 3: 9, 4: 16, 5: 25, 6: 36, 7: 49, 8: 64, 9: 81, 10: 100, 11: 121, 12: 144, 13: 169, 14: 196, 15: 225}\n"
          ]
        }
      ]
    },
    {
      "cell_type": "code",
      "source": [
        "#@title 8.Write a Python script to merge two Python dictionaries.\n",
        "d1 = {'a': 100, 'b': 200}\n",
        "d2 = {'x': 300, 'y': 200}\n",
        "d1.update(d2)\n",
        "print(d1)"
      ],
      "metadata": {
        "colab": {
          "base_uri": "https://localhost:8080/"
        },
        "id": "TvuxC_NOUKLl",
        "outputId": "59a8e3b8-1471-45d5-e204-5f452ee7e34f"
      },
      "execution_count": null,
      "outputs": [
        {
          "output_type": "stream",
          "name": "stdout",
          "text": [
            "{'a': 100, 'b': 200, 'x': 300, 'y': 200}\n"
          ]
        }
      ]
    },
    {
      "cell_type": "code",
      "source": [
        "#@title 9.Write a Python program to iterate over dictionaries using for loops.\n",
        "d = {'Red': 1, 'Green': 2, 'Blue': 3}\n",
        "for k,v in d.items():\n",
        "  print(k,v)"
      ],
      "metadata": {
        "colab": {
          "base_uri": "https://localhost:8080/"
        },
        "id": "Ch7Y-FNcXDXV",
        "outputId": "0a256b1e-5973-4394-c31a-2ec4f070b794"
      },
      "execution_count": null,
      "outputs": [
        {
          "output_type": "stream",
          "name": "stdout",
          "text": [
            "Red 1\n",
            "Green 2\n",
            "Blue 3\n"
          ]
        }
      ]
    },
    {
      "cell_type": "code",
      "source": [
        "#@title 10.Write a Python program to sum all the items in a dictionary.\n",
        "d=my_dict = {'data1':100,'data2':-54,'data3':247}\n",
        "sum=0\n",
        "for k,v in d.items():\n",
        "  sum+=v\n",
        "print(sum)"
      ],
      "metadata": {
        "colab": {
          "base_uri": "https://localhost:8080/"
        },
        "id": "TTVSNvF0YXZa",
        "outputId": "d907f13d-bfa9-4b18-ac2c-3f5f435bcf90"
      },
      "execution_count": null,
      "outputs": [
        {
          "output_type": "stream",
          "name": "stdout",
          "text": [
            "293\n"
          ]
        }
      ]
    },
    {
      "cell_type": "code",
      "source": [
        "#@title 11.Write a Python program to multiply all the items in a dictionary.\n",
        "dic={'data1':100,'data2':-54,'data3':247}\n",
        "mul=1\n",
        "for k,v in dic.items():\n",
        "  mul=mul*v\n",
        "print(mul)\n"
      ],
      "metadata": {
        "id": "9jscThMdY7Fe",
        "colab": {
          "base_uri": "https://localhost:8080/"
        },
        "outputId": "0f1d4cb7-0ddb-4e9d-ab6b-d91a0eb222b3"
      },
      "execution_count": null,
      "outputs": [
        {
          "output_type": "stream",
          "name": "stdout",
          "text": [
            "-1333800\n"
          ]
        }
      ]
    },
    {
      "cell_type": "code",
      "source": [
        "#@title 12.Write a Python program to remove a key from a dictionary.\n",
        "dic={'a':1,'b':2,'c':3,'d':4}\n",
        "del dic['a']\n",
        "print(dic)"
      ],
      "metadata": {
        "colab": {
          "base_uri": "https://localhost:8080/"
        },
        "id": "T0ed1uQhBmhp",
        "outputId": "8c483d4a-72c1-4a36-faf7-e1fd44ea15ae"
      },
      "execution_count": null,
      "outputs": [
        {
          "output_type": "stream",
          "name": "stdout",
          "text": [
            "{'b': 2, 'c': 3, 'd': 4}\n"
          ]
        }
      ]
    },
    {
      "cell_type": "code",
      "source": [
        "#@title 13. Write a Python program to map two lists into a dictionary.\n",
        "keys = ['red', 'green', 'blue']\n",
        "values = ['#FF0000','#008000', '#0000FF']\n",
        "dic=dict(zip(keys,values))\n",
        "print(dic)"
      ],
      "metadata": {
        "colab": {
          "base_uri": "https://localhost:8080/"
        },
        "id": "cgDN1-GdCO16",
        "outputId": "d9213037-2e28-4e8f-acfc-0f41991e98a3"
      },
      "execution_count": null,
      "outputs": [
        {
          "output_type": "stream",
          "name": "stdout",
          "text": [
            "{'red': '#FF0000', 'green': '#008000', 'blue': '#0000FF'}\n"
          ]
        }
      ]
    },
    {
      "cell_type": "code",
      "source": [
        "#@title 14.Write a Python program to sort a given dictionary by key.\n",
        "color_dict = {'red':'#FF0000',\n",
        "          'green':'#008000',\n",
        "          'black':'#000000',\n",
        "          'white':'#FFFFFF'}\n",
        "\n",
        "dic=dict(sorted(color_dict.items(), key= lambda x: x[1]))\n",
        "print(dic)"
      ],
      "metadata": {
        "colab": {
          "base_uri": "https://localhost:8080/"
        },
        "id": "PQSI1fe3CkUf",
        "outputId": "4ff828a9-b505-4024-8361-3ec0146f4dab"
      },
      "execution_count": null,
      "outputs": [
        {
          "output_type": "stream",
          "name": "stdout",
          "text": [
            "{'black': '#000000', 'green': '#008000', 'red': '#FF0000', 'white': '#FFFFFF'}\n"
          ]
        }
      ]
    },
    {
      "cell_type": "code",
      "source": [
        "#@title 15.Write a Python program to get the maximum and minimum values of a dictionary.\n",
        "my_dict = {'x':500, 'y':5874, 'z': 560}\n",
        "max_num=max(my_dict.keys(), key=(lambda x: my_dict[x]))\n",
        "min_num=min(my_dict.keys(),key=lambda x: my_dict[x])\n",
        "print(my_dict[max_num])\n",
        "print(my_dict[min_num])\n"
      ],
      "metadata": {
        "colab": {
          "base_uri": "https://localhost:8080/"
        },
        "id": "srUecGaaDGCa",
        "outputId": "6ba0ec5c-7726-43ba-c21e-078a6d0715e4"
      },
      "execution_count": null,
      "outputs": [
        {
          "output_type": "stream",
          "name": "stdout",
          "text": [
            "5874\n",
            "500\n"
          ]
        }
      ]
    },
    {
      "cell_type": "code",
      "source": [
        "#@title 16.Get a dictionary from an object's fields\n",
        "class dictobj(object):\n",
        "  def __init__(self):\n",
        "    self.x=\"Red\"\n",
        "    self.y=\"Blue\"\n",
        "    self.z=\"Black\"\n",
        "  def do_nothing(self):\n",
        "    pass\n",
        "test=dictobj()\n",
        "print(test.__dict__)"
      ],
      "metadata": {
        "colab": {
          "base_uri": "https://localhost:8080/"
        },
        "id": "sKviqdKFEPHT",
        "outputId": "ad29079c-5ffc-4fe6-b0aa-750bd236db10"
      },
      "execution_count": null,
      "outputs": [
        {
          "output_type": "stream",
          "name": "stdout",
          "text": [
            "{'x': 'Red', 'y': 'Blue', 'z': 'Black'}\n"
          ]
        }
      ]
    },
    {
      "cell_type": "code",
      "source": [
        "#@title 17. Write a Python program to remove duplicates from the dictionary\n",
        "student_data = {'id1': \n",
        "   {'name': ['Sara'], \n",
        "    'class': ['V'], \n",
        "    'subject_integration': ['english, math, science']\n",
        "   },\n",
        " 'id2': \n",
        "  {'name': ['David'], \n",
        "    'class': ['V'], \n",
        "    'subject_integration': ['english, math, science']\n",
        "   },\n",
        " 'id3': \n",
        "    {'name': ['Sara'], \n",
        "    'class': ['V'], \n",
        "    'subject_integration': ['english, math, science']\n",
        "   },\n",
        " 'id4': \n",
        "   {'name': ['Surya'], \n",
        "    'class': ['V'], \n",
        "    'subject_integration': ['english, math, science']\n",
        "   },\n",
        "}\n",
        "\n",
        "res={}\n",
        "for k,v in student_data.items():\n",
        "  if v not in res.values():\n",
        "    res[k]=v\n",
        "print(res)\n",
        "\n"
      ],
      "metadata": {
        "colab": {
          "base_uri": "https://localhost:8080/"
        },
        "id": "42QhYhe9GkMT",
        "outputId": "8a42bf81-d3b9-4d23-a01d-b65f45001417"
      },
      "execution_count": null,
      "outputs": [
        {
          "output_type": "stream",
          "name": "stdout",
          "text": [
            "{'id1': {'name': ['Sara'], 'class': ['V'], 'subject_integration': ['english, math, science']}, 'id2': {'name': ['David'], 'class': ['V'], 'subject_integration': ['english, math, science']}, 'id4': {'name': ['Surya'], 'class': ['V'], 'subject_integration': ['english, math, science']}}\n"
          ]
        }
      ]
    },
    {
      "cell_type": "code",
      "source": [
        "#@title 18.Write a Python program to check if a dictionary is empty or not.\n",
        "dic={}\n",
        "if bool(dic):\n",
        "  print(\"dictionary is not empty\")\n",
        "else:\n",
        "  print(\"dictionary is empty\")"
      ],
      "metadata": {
        "colab": {
          "base_uri": "https://localhost:8080/"
        },
        "id": "1_hXIDTPHmJA",
        "outputId": "3dec382b-a3f9-41cb-d88f-8e22519e0ce0"
      },
      "execution_count": null,
      "outputs": [
        {
          "output_type": "stream",
          "name": "stdout",
          "text": [
            "dictionary is empty\n"
          ]
        }
      ]
    },
    {
      "cell_type": "code",
      "source": [
        "#@title 19.Write a Python program to combine two dictionary by adding values for common keys.\n",
        "from collections import Counter\n",
        "d1 = {'a': 100, 'b': 200, 'c':300}\n",
        "d2 = {'a': 300, 'b': 200, 'd':400}\n",
        "d=Counter(d1)+Counter(d2)\n",
        "print(d)\n",
        "  "
      ],
      "metadata": {
        "id": "mFkkdlX1IY6Q",
        "colab": {
          "base_uri": "https://localhost:8080/"
        },
        "outputId": "1a2e68d6-8133-49ce-d7ed-21fde9206172"
      },
      "execution_count": null,
      "outputs": [
        {
          "output_type": "stream",
          "name": "stdout",
          "text": [
            "Counter({'a': 400, 'b': 400, 'd': 400, 'c': 300})\n"
          ]
        }
      ]
    },
    {
      "cell_type": "code",
      "source": [
        "d1 = {'a': 100, 'b': 200, 'c':300}\n",
        "d2 = {'a': 300, 'b': 200, 'd':400}\n",
        "d={}\n",
        "for k in d1.keys() | d2.keys():\n",
        "  d[k]=d1.get(k,0) + d2.get(k,0)\n",
        "print(d)\n"
      ],
      "metadata": {
        "colab": {
          "base_uri": "https://localhost:8080/"
        },
        "id": "zob1ufNajjGa",
        "outputId": "8ee53c1e-adfa-4e25-ca22-0aef49160540"
      },
      "execution_count": null,
      "outputs": [
        {
          "output_type": "stream",
          "name": "stdout",
          "text": [
            "{'c': 300, 'd': 400, 'b': 400, 'a': 400}\n"
          ]
        }
      ]
    },
    {
      "cell_type": "code",
      "source": [
        "#@title 20.Write a Python program to print all distinct values in a dictionary.\n",
        "dic=[{\"V\":\"S001\"}, {\"V\": \"S002\"}, {\"VI\": \"S001\"}, {\"VI\": \"S005\"}, {\"VII\":\"S005\"}, {\"V\":\"S009\"},{\"VIII\":\"S007\"}]\n",
        "d=set()\n",
        "for i in dic:\n",
        "  for value in i.values():\n",
        "    d.add(value)\n",
        "print(d)"
      ],
      "metadata": {
        "colab": {
          "base_uri": "https://localhost:8080/"
        },
        "id": "k517jwpxkj08",
        "outputId": "7d8b4d05-bece-4353-bea0-9d5a581f39e4"
      },
      "execution_count": null,
      "outputs": [
        {
          "output_type": "stream",
          "name": "stdout",
          "text": [
            "{'S009', 'S002', 'S007', 'S001', 'S005'}\n"
          ]
        }
      ]
    },
    {
      "cell_type": "code",
      "source": [
        "#@title 21.Write a Python program to create and display all combinations of letters, selecting each letter from a different key in a dictionary.\n",
        "import itertools\n",
        "d={'1':['a','b'], '2':['c','d']}\n",
        "for i in itertools.product(*[d[k] for k in sorted(d.keys())]):\n",
        "  print(''.join(i))\n"
      ],
      "metadata": {
        "colab": {
          "base_uri": "https://localhost:8080/"
        },
        "id": "4Y39c8G6qhTf",
        "outputId": "2fdfa1e5-d052-4092-c411-58a4deff4f39"
      },
      "execution_count": null,
      "outputs": [
        {
          "output_type": "stream",
          "name": "stdout",
          "text": [
            "ac\n",
            "ad\n",
            "bc\n",
            "bd\n"
          ]
        }
      ]
    },
    {
      "cell_type": "code",
      "source": [
        "#@title 22.Write a Python program to find the highest 3 values of corresponding keys in a dictionary.\n",
        "from heapq import nlargest\n",
        "d={'a':500, 'b':5874, 'c': 560,'d':400, 'e':5874, 'f': 20}\n",
        "three=nlargest(3,d.values())\n",
        "print(three)\n"
      ],
      "metadata": {
        "colab": {
          "base_uri": "https://localhost:8080/"
        },
        "id": "hIJkg8BcyruR",
        "outputId": "80e7984b-8ab4-481c-f66a-9846a94c6b32"
      },
      "execution_count": null,
      "outputs": [
        {
          "output_type": "stream",
          "name": "stdout",
          "text": [
            "[5874, 5874, 560]\n"
          ]
        }
      ]
    },
    {
      "cell_type": "code",
      "source": [
        "#@title 23.Write a Python program to combine values in a list of dictionaries.\n",
        "d=[{'item': 'item1', 'amount': 400}, {'item': 'item2', 'amount': 300}, {'item': 'item1', 'amount': 750}]\n",
        "output={}\n",
        "for i in d:\n",
        "  item=i[\"item\"]\n",
        "  amount=i['amount']\n",
        "  output[item]=output.get(item,0)+amount\n",
        "print(output)"
      ],
      "metadata": {
        "colab": {
          "base_uri": "https://localhost:8080/"
        },
        "id": "uhr3wXef15n5",
        "outputId": "76e6be83-3db7-4c37-fa25-304d76594eb3"
      },
      "execution_count": null,
      "outputs": [
        {
          "output_type": "stream",
          "name": "stdout",
          "text": [
            "{'item1': 1150, 'item2': 300}\n"
          ]
        }
      ]
    },
    {
      "cell_type": "code",
      "source": [
        "#@title 24. Write a Python program to create a dictionary from a string.\n",
        "st=\"w3resource\"\n",
        "d={}\n",
        "for i in st:\n",
        "  if i in d:\n",
        "    d[i]+=1\n",
        "  if i not in d:\n",
        "    d[i]=1\n",
        "print(d)\n"
      ],
      "metadata": {
        "colab": {
          "base_uri": "https://localhost:8080/"
        },
        "id": "YfZpOEwFFter",
        "outputId": "a89c6bd0-132c-400e-a7e6-e531197ddd83"
      },
      "execution_count": null,
      "outputs": [
        {
          "output_type": "stream",
          "name": "stdout",
          "text": [
            "{'w': 1, '3': 1, 'r': 2, 'e': 2, 's': 1, 'o': 1, 'u': 1, 'c': 1}\n"
          ]
        }
      ]
    },
    {
      "cell_type": "code",
      "source": [
        "#@title 25.Write a Python program to print a dictionary in table format.\n",
        "d={'C1':[1,2,3],'C2':[5,6,7],'C3':[9,10,11]}\n",
        "for row in zip(*([key] + (value) for key, value in sorted(d.items()))):\n",
        "    print(*row)"
      ],
      "metadata": {
        "colab": {
          "base_uri": "https://localhost:8080/"
        },
        "id": "hVexRH6nLg5L",
        "outputId": "c5d10d3e-01c5-4d5c-ffba-cc3de1f9ed6c"
      },
      "execution_count": null,
      "outputs": [
        {
          "output_type": "stream",
          "name": "stdout",
          "text": [
            "C1 C2 C3\n",
            "1 5 9\n",
            "2 6 10\n",
            "3 7 11\n"
          ]
        }
      ]
    },
    {
      "cell_type": "code",
      "source": [
        "#@title 26.Write a Python program to count the values associated with a key in a dictionary.\n",
        "student = [{'id': 1, 'success': True, 'name': 'Lary'},\n",
        " {'id': 2, 'success': False, 'name': 'Rabi'},\n",
        " {'id': 3, 'success': True, 'name': 'Alex'}]\n",
        "sum=0\n",
        "st=0\n",
        "for i in student:\n",
        "  for k,v in i.items():\n",
        "    if k==\"id\":\n",
        "      sum+=v\n",
        "    if k==\"success\" and v==True:\n",
        "      st+=1\n",
        "print(sum)\n",
        "print(st)\n"
      ],
      "metadata": {
        "colab": {
          "base_uri": "https://localhost:8080/"
        },
        "id": "uGlnGLImT1ub",
        "outputId": "1aeef30d-697f-4613-8005-1957c92ea2ec"
      },
      "execution_count": null,
      "outputs": [
        {
          "output_type": "stream",
          "name": "stdout",
          "text": [
            "6\n",
            "2\n"
          ]
        }
      ]
    },
    {
      "cell_type": "code",
      "source": [
        "#@title 27.Write a Python program to convert a list into a nested dictionary of keys.\n",
        "num_list = [1, 2, 3, 4]\n",
        "dic=current={}\n",
        "for i in num_list:\n",
        "  current[i]={}\n",
        "  current=current[i]\n",
        "print(dic)"
      ],
      "metadata": {
        "colab": {
          "base_uri": "https://localhost:8080/"
        },
        "id": "W3tLzc_QWbhd",
        "outputId": "73604fae-54b6-447f-98e3-b33d4ce86155"
      },
      "execution_count": null,
      "outputs": [
        {
          "output_type": "stream",
          "name": "stdout",
          "text": [
            "{1: {2: {3: {4: {}}}}}\n"
          ]
        }
      ]
    },
    {
      "cell_type": "code",
      "source": [
        "#@title 28.Write a Python program to sort a list alphabetically in a dictionary.\n",
        "num = {'n1': [2, 3, 1], 'n2': [5, 1, 2], 'n3': [3, 2, 4]}\n",
        "for i in num.values():\n",
        "  i.sort()\n",
        "print(num)"
      ],
      "metadata": {
        "colab": {
          "base_uri": "https://localhost:8080/"
        },
        "id": "xp7sD7dqSU85",
        "outputId": "3e7f67c7-c045-4752-ac12-35ed787665c0"
      },
      "execution_count": null,
      "outputs": [
        {
          "output_type": "stream",
          "name": "stdout",
          "text": [
            "{'n1': [1, 2, 3], 'n2': [1, 2, 5], 'n3': [2, 3, 4]}\n"
          ]
        }
      ]
    },
    {
      "cell_type": "code",
      "source": [
        "#@title 29.Write a Python program to remove spaces from dictionary keys.\n",
        "student_list = {'S  001': ['Math', 'Science'], 'S    002': ['Math', 'English']}\n",
        "new={}\n",
        "for k,v in student_list.items():\n",
        "  r=k.replace(' ','')\n",
        "  new[r]=v\n",
        "print(new)"
      ],
      "metadata": {
        "id": "wV4aBP4cS6Gx",
        "colab": {
          "base_uri": "https://localhost:8080/"
        },
        "outputId": "51e288ee-990f-4947-e34f-75b6e8092700"
      },
      "execution_count": 10,
      "outputs": [
        {
          "output_type": "stream",
          "name": "stdout",
          "text": [
            "{'S001': ['Math', 'Science'], 'S002': ['Math', 'English']}\n"
          ]
        }
      ]
    },
    {
      "cell_type": "code",
      "source": [
        "#@title 30.Write a Python program to get the top three items in a shop.\n",
        "dic={'item1': 45.50, 'item2':35, 'item3': 41.30, 'item4':55, 'item5': 24}\n",
        "from heapq import nlargest\n",
        "three=dict(nlargest(3,dic.items()))\n",
        "print(three)\n",
        "\n",
        "  "
      ],
      "metadata": {
        "colab": {
          "base_uri": "https://localhost:8080/"
        },
        "id": "z2QCpInDWWAJ",
        "outputId": "a7503613-5446-4dce-d14b-e9e1c3c3ea89"
      },
      "execution_count": 12,
      "outputs": [
        {
          "output_type": "stream",
          "name": "stdout",
          "text": [
            "{'item5': 24, 'item4': 55, 'item3': 41.3}\n"
          ]
        }
      ]
    },
    {
      "cell_type": "code",
      "source": [
        "tup="
      ],
      "metadata": {
        "id": "8Ws8G2ovZDUf"
      },
      "execution_count": null,
      "outputs": []
    }
  ]
}