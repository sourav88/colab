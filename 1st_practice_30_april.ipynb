{
  "nbformat": 4,
  "nbformat_minor": 0,
  "metadata": {
    "colab": {
      "provenance": [],
      "toc_visible": true,
      "gpuType": "T4",
      "authorship_tag": "ABX9TyP4/HSiE5/yDJocTclom52i",
      "include_colab_link": true
    },
    "kernelspec": {
      "name": "python3",
      "display_name": "Python 3"
    },
    "language_info": {
      "name": "python"
    },
    "gpuClass": "standard"
  },
  "cells": [
    {
      "cell_type": "markdown",
      "metadata": {
        "id": "view-in-github",
        "colab_type": "text"
      },
      "source": [
        "<a href=\"https://colab.research.google.com/github/sourav88/colab/blob/practice/1st_practice_30_april.ipynb\" target=\"_parent\"><img src=\"https://colab.research.google.com/assets/colab-badge.svg\" alt=\"Open In Colab\"/></a>"
      ]
    },
    {
      "cell_type": "code",
      "execution_count": 1,
      "metadata": {
        "colab": {
          "base_uri": "https://localhost:8080/",
          "height": 0
        },
        "id": "_5_w5gsqWhW_",
        "outputId": "e3ba9176-87d0-422e-8e2d-ddacb4010567"
      },
      "outputs": [
        {
          "output_type": "stream",
          "name": "stdout",
          "text": [
            "varuos\n"
          ]
        }
      ],
      "source": [
        "#@title reverse a string\n",
        "val=\"sourav\"\n",
        "new=val[::-1]\n",
        "print(new)"
      ]
    },
    {
      "cell_type": "code",
      "source": [
        "#@title reverse string without slicing\n",
        "val=\"sourav\"\n",
        "tem=\"\"\n",
        "for i in val:\n",
        "  tem=i+tem\n",
        "print(tem)\n"
      ],
      "metadata": {
        "colab": {
          "base_uri": "https://localhost:8080/",
          "height": 0
        },
        "id": "70id9mSyXnga",
        "outputId": "554a1a2a-a9cf-4618-8c51-20b5a446340f"
      },
      "execution_count": 4,
      "outputs": [
        {
          "output_type": "stream",
          "name": "stdout",
          "text": [
            "varuos\n"
          ]
        }
      ]
    },
    {
      "cell_type": "code",
      "source": [
        "#@title swap first and last element from list\n",
        "lst=[1,2,3,4] \n",
        "# lst[0],lst[-1]=lst[-1],lst[0]\n",
        "# print(lst)\n",
        "\n",
        "#another approach using classic swapping method\n",
        "a=lst[0]\n",
        "lst[0]=lst[-1]\n",
        "lst[-1]=a\n",
        "print(lst)"
      ],
      "metadata": {
        "colab": {
          "base_uri": "https://localhost:8080/",
          "height": 0
        },
        "id": "-dStx7b1Ykj-",
        "outputId": "c70b8c59-c501-442c-9b9b-45df9d174da7"
      },
      "execution_count": 8,
      "outputs": [
        {
          "output_type": "stream",
          "name": "stdout",
          "text": [
            "[4, 2, 3, 1]\n"
          ]
        }
      ]
    },
    {
      "cell_type": "code",
      "source": [
        "#@title find the length of the list without using function\n",
        "lst=[1,22,34,5,6,7,8]\n",
        "count=0\n",
        "for i in lst:\n",
        "  count+=1\n",
        "print(count)"
      ],
      "metadata": {
        "colab": {
          "base_uri": "https://localhost:8080/"
        },
        "id": "KRmPd7gnaJ7B",
        "outputId": "79753910-7a78-4412-e384-455520a80d48"
      },
      "execution_count": 1,
      "outputs": [
        {
          "output_type": "stream",
          "name": "stdout",
          "text": [
            "7\n"
          ]
        }
      ]
    },
    {
      "cell_type": "code",
      "source": [
        "#@title sum of the list without using sum function\n",
        "lst=[1,2,3,4]\n",
        "sum=0\n",
        "for i in lst:\n",
        "  sum+=i\n",
        "print(sum)"
      ],
      "metadata": {
        "colab": {
          "base_uri": "https://localhost:8080/"
        },
        "id": "ed9qUNvmfH4E",
        "outputId": "274aac21-3992-47b3-d45c-dfe6c7ed3036"
      },
      "execution_count": 4,
      "outputs": [
        {
          "output_type": "stream",
          "name": "stdout",
          "text": [
            "10\n"
          ]
        }
      ]
    },
    {
      "cell_type": "code",
      "source": [
        "#@title find the number of occurance in the list without using count funciton\n",
        "lst=[1,2,3,4,4,5,4]\n",
        "n=4\n",
        "count=0\n",
        "for i in lst:\n",
        "  if i==n:\n",
        "    count+=1\n",
        "print(count)\n",
        "\n",
        "#approach --> 2 using count function\n",
        "cnt=lst.count(4)\n",
        "print(cnt)"
      ],
      "metadata": {
        "colab": {
          "base_uri": "https://localhost:8080/"
        },
        "id": "7bu-tG8XfsnT",
        "outputId": "39507fa7-9c45-4c39-a758-151a96b5a38a"
      },
      "execution_count": 7,
      "outputs": [
        {
          "output_type": "stream",
          "name": "stdout",
          "text": [
            "3\n",
            "3\n"
          ]
        }
      ]
    },
    {
      "cell_type": "code",
      "source": [
        "lst=[1,3,2,2,4,5,6,7]\n",
        "tmp=[]\n",
        "for i in lst:\n",
        "  if i not in lst:\n",
        "      tmp.append(i)\n",
        "print(tmp)"
      ],
      "metadata": {
        "colab": {
          "base_uri": "https://localhost:8080/"
        },
        "id": "-YbeMhT8gwc7",
        "outputId": "d41a408e-5222-4e88-a5d9-db5a572f1f46"
      },
      "execution_count": 10,
      "outputs": [
        {
          "output_type": "stream",
          "name": "stdout",
          "text": [
            "[]\n"
          ]
        }
      ]
    },
    {
      "cell_type": "code",
      "source": [
        "#@title print all the natural number upto 10\n",
        "n=10\n",
        "for i in range(1,n+1):\n",
        "  print(i)"
      ],
      "metadata": {
        "colab": {
          "base_uri": "https://localhost:8080/"
        },
        "id": "Ljf7Ln5ijIAL",
        "outputId": "dd021667-66db-4816-c9c9-0d0c1413cf75"
      },
      "execution_count": 12,
      "outputs": [
        {
          "output_type": "stream",
          "name": "stdout",
          "text": [
            "1\n",
            "2\n",
            "3\n",
            "4\n",
            "5\n",
            "6\n",
            "7\n",
            "8\n",
            "9\n",
            "10\n"
          ]
        }
      ]
    },
    {
      "cell_type": "code",
      "source": [
        "#@title find the posotive integer number from the list\n",
        "lst=[10,2,-2,-99,1,8,26,-28]\n",
        "for i in lst:\n",
        "  if i>0:\n",
        "    print(i)"
      ],
      "metadata": {
        "colab": {
          "base_uri": "https://localhost:8080/"
        },
        "id": "eHJ00hwDgl3l",
        "outputId": "dba6d3d2-c30e-4a47-e9c6-e586600437d7"
      },
      "execution_count": 13,
      "outputs": [
        {
          "output_type": "stream",
          "name": "stdout",
          "text": [
            "10\n",
            "2\n",
            "1\n",
            "8\n",
            "26\n"
          ]
        }
      ]
    },
    {
      "cell_type": "code",
      "source": [
        "#@title print the string from the list\n",
        "lst=[1,-3,\"sourav\",\"sam\",89,0,\"life\"]\n",
        "# for i in lst:\n",
        "#   if type(i)==str:\n",
        "#     print(i)\n",
        "\n",
        "#approach -2\n",
        "for i in lst:\n",
        "  if isinstance(i,str):\n",
        "    print(i) "
      ],
      "metadata": {
        "colab": {
          "base_uri": "https://localhost:8080/"
        },
        "id": "DmUYgEL_kEiL",
        "outputId": "427eb5c0-3d24-49ba-ef68-8ca91b9cdc39"
      },
      "execution_count": 17,
      "outputs": [
        {
          "output_type": "stream",
          "name": "stdout",
          "text": [
            "sourav\n",
            "sam\n",
            "life\n"
          ]
        }
      ]
    },
    {
      "cell_type": "code",
      "source": [
        "#@title find empty tuple from the list\n",
        "lst=[1,2,\"sourav\",44,(2,3),67,(),7,()]\n",
        "for i in lst:\n",
        "  if type(i)==tuple and len(i)==0:\n",
        "    print(i)\n"
      ],
      "metadata": {
        "colab": {
          "base_uri": "https://localhost:8080/"
        },
        "id": "xRA10dxdkosN",
        "outputId": "a4a9c1ad-4aeb-4d3d-8920-0dfc8fd35648"
      },
      "execution_count": 27,
      "outputs": [
        {
          "output_type": "stream",
          "name": "stdout",
          "text": [
            "()\n",
            "()\n"
          ]
        }
      ]
    },
    {
      "cell_type": "code",
      "source": [
        "#@title count floating number\n",
        "lst=[1.3,5,6.7,34,8.8]\n",
        "count=0\n",
        "for i in lst:\n",
        "  if type(i)==float:\n",
        "    count+=1\n",
        "print(count)"
      ],
      "metadata": {
        "colab": {
          "base_uri": "https://localhost:8080/"
        },
        "id": "-tC85_cvnC_L",
        "outputId": "a045efb2-a854-4e1d-8585-f86b0d27e062"
      },
      "execution_count": 25,
      "outputs": [
        {
          "output_type": "stream",
          "name": "stdout",
          "text": [
            "3\n"
          ]
        }
      ]
    },
    {
      "cell_type": "code",
      "source": [
        "#@title print two consecutive number from a list\n",
        "lst=[1,2,2,3,4,5,5]\n",
        "for i in range(len(lst)-1):\n",
        "  if lst[i]==lst[i+1]:\n",
        "    print(lst[i])"
      ],
      "metadata": {
        "colab": {
          "base_uri": "https://localhost:8080/"
        },
        "id": "LC8TkTWgvam0",
        "outputId": "343554c6-6636-4d59-fa51-0597140d0412"
      },
      "execution_count": 7,
      "outputs": [
        {
          "output_type": "stream",
          "name": "stdout",
          "text": [
            "2\n",
            "5\n"
          ]
        }
      ]
    },
    {
      "cell_type": "code",
      "source": [
        "#@title print three consecutive number from a list\n",
        "lst=[1,2,3,3,4,5,6,7,8,8,8]\n",
        "for i in range(len(lst)-2):\n",
        "  if lst[i]==lst[i+2]:\n",
        "    print(lst[i])"
      ],
      "metadata": {
        "colab": {
          "base_uri": "https://localhost:8080/"
        },
        "id": "ZBF1zq8Uy4_5",
        "outputId": "55cae291-74c6-44b0-eb4c-607993dca1a9"
      },
      "execution_count": 12,
      "outputs": [
        {
          "output_type": "stream",
          "name": "stdout",
          "text": [
            "8\n"
          ]
        }
      ]
    },
    {
      "cell_type": "code",
      "source": [
        "#@title output should be lst=[2,33,3,34,5,2,56,]\n",
        "lst=[2,33,[3,44],5,(2,56)]\n",
        "tmp=[]\n",
        "for i in lst:\n",
        "  if type(i)==list or type(i)==tuple:\n",
        "    tmp.extend(i)\n",
        "  else:\n",
        "    tmp.append(i)\n",
        "print(tmp)\n"
      ],
      "metadata": {
        "colab": {
          "base_uri": "https://localhost:8080/"
        },
        "id": "IgeuYs7dz1Bk",
        "outputId": "5430d42b-6c77-4649-fda9-084271de0a37"
      },
      "execution_count": 15,
      "outputs": [
        {
          "output_type": "stream",
          "name": "stdout",
          "text": [
            "[2, 33, 3, 44, 5, 2, 56]\n"
          ]
        }
      ]
    },
    {
      "cell_type": "code",
      "source": [
        "#@title return even element from the list using lambda function\n",
        "lst=[1,2,-3,6,-8,10,16,7,13,16]\n",
        "even=list(filter(lambda x: x%2==0,lst))\n",
        "print(even)\n",
        "lst = [1, 2, 3, 4, 5, 6, 7, 8, 9]"
      ],
      "metadata": {
        "colab": {
          "base_uri": "https://localhost:8080/"
        },
        "id": "amtsVa3v2efA",
        "outputId": "9d4b0746-5486-45cc-899d-fce5a4475c8f"
      },
      "execution_count": 20,
      "outputs": [
        {
          "output_type": "stream",
          "name": "stdout",
          "text": [
            "[2, 6, -8, 10, 16, 16]\n"
          ]
        }
      ]
    },
    {
      "cell_type": "code",
      "source": [
        "#@title find the smallest and bigest element from the list without using function\n",
        "lst=[2,33,4,6,88]\n",
        "max=lst[0]\n",
        "min=lst[0]\n",
        "for i in lst:\n",
        "  if i>max:\n",
        "    max=i\n",
        "  elif i<min:\n",
        "    min=i\n",
        "print(max)\n",
        "print(min)\n",
        "\n",
        "#using bubble sort\n",
        "for i in range(len(lst)):\n",
        "  for j in range(len(lst)-i-1):\n",
        "    if lst[j]>lst[j+1]:\n",
        "      lst[j],lst[j+1]<lst[j+1],lst[j]\n",
        "print(\"min\" ,lst[0],\"max\", lst[-1])"
      ],
      "metadata": {
        "colab": {
          "base_uri": "https://localhost:8080/"
        },
        "id": "JhshXWwP4gLl",
        "outputId": "b28d9a58-8fdb-465b-a175-478e1763d8c6"
      },
      "execution_count": 26,
      "outputs": [
        {
          "output_type": "stream",
          "name": "stdout",
          "text": [
            "88\n",
            "2\n",
            "min 2 max 88\n"
          ]
        }
      ]
    },
    {
      "cell_type": "code",
      "source": [
        "#@title find the number of upper case and lower case letter from a given string\n",
        "str=\"The Quick Brown Box\"\n",
        "up_count=0\n",
        "low_count=0\n",
        "for i in str:\n",
        "  if i.isupper():\n",
        "    up_count+=1\n",
        "  elif i.islower():\n",
        "    low_count+=1\n",
        "print(\"Upper case\",up_count)\n",
        "print(\"Low case\",low_count)"
      ],
      "metadata": {
        "colab": {
          "base_uri": "https://localhost:8080/"
        },
        "id": "V1Ms1q5g7D5o",
        "outputId": "33c9eee6-cee9-4ba1-ea8a-ded652009c14"
      },
      "execution_count": 33,
      "outputs": [
        {
          "output_type": "stream",
          "name": "stdout",
          "text": [
            "Upper case 4\n",
            "Low case 12\n"
          ]
        }
      ]
    },
    {
      "cell_type": "code",
      "source": [
        "#@title find out digit \n",
        "digi=\"avdgroup1234\"\n",
        "count=0\n",
        "for i in digi:\n",
        "  if i.isdigit():\n",
        "    count+=1\n",
        "print(count)"
      ],
      "metadata": {
        "colab": {
          "base_uri": "https://localhost:8080/"
        },
        "id": "5BjSao1mBdwQ",
        "outputId": "f8a72e7d-5038-486a-e72b-d11ed40f2d6a"
      },
      "execution_count": 38,
      "outputs": [
        {
          "output_type": "stream",
          "name": "stdout",
          "text": [
            "4\n"
          ]
        }
      ]
    },
    {
      "cell_type": "code",
      "source": [
        "#@title find out vowels\n",
        "str=\"avd group\"\n",
        "vo=['a','e','i','o','u']\n",
        "for i in str:\n",
        "  if i in vo:\n",
        "    print(i)"
      ],
      "metadata": {
        "colab": {
          "base_uri": "https://localhost:8080/"
        },
        "id": "Jqd_FZOh9njf",
        "outputId": "b4102fd6-70c7-46f1-8ac2-6ad60b41898c"
      },
      "execution_count": 34,
      "outputs": [
        {
          "output_type": "stream",
          "name": "stdout",
          "text": [
            "a\n",
            "o\n",
            "u\n"
          ]
        }
      ]
    },
    {
      "cell_type": "code",
      "source": [
        "#@title reverse the order of the word in the string \n",
        "str=\"python is easy\"\n",
        "#output \n",
        "# 1) \"easy is python\" 2) \"nothyp si ysae\"\n",
        "lst=str.split()\n",
        "lst.reverse()\n",
        "''.join(lst)\n",
        "print(lst)\n",
        "\n",
        "#approach -> 2\n",
        "rev_str=' '.join(reversed(str.split()))\n",
        "print(rev_str)\n",
        "\n",
        "# 2)\n",
        "#approach -> 2\n",
        "rev_str2=' '.join([word[::-1] for word in reversed(str.split())])\n",
        "print(rev_str2)"
      ],
      "metadata": {
        "colab": {
          "base_uri": "https://localhost:8080/"
        },
        "id": "C_ZyDTh4_0Gj",
        "outputId": "66b6d263-22c7-434b-dfec-b71e4f72f950"
      },
      "execution_count": 50,
      "outputs": [
        {
          "output_type": "stream",
          "name": "stdout",
          "text": [
            "['easy', 'is', 'python']\n",
            "easy is python\n",
            "ysae si nohtyp\n"
          ]
        }
      ]
    }
  ]
}