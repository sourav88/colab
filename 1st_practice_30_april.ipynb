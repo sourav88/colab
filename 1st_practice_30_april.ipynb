{
  "nbformat": 4,
  "nbformat_minor": 0,
  "metadata": {
    "colab": {
      "provenance": [],
      "toc_visible": true,
      "authorship_tag": "ABX9TyMGLyS4dmZJSGcoyrZILV4o",
      "include_colab_link": true
    },
    "kernelspec": {
      "name": "python3",
      "display_name": "Python 3"
    },
    "language_info": {
      "name": "python"
    }
  },
  "cells": [
    {
      "cell_type": "markdown",
      "metadata": {
        "id": "view-in-github",
        "colab_type": "text"
      },
      "source": [
        "<a href=\"https://colab.research.google.com/github/sourav88/colab/blob/practice/1st_practice_30_april.ipynb\" target=\"_parent\"><img src=\"https://colab.research.google.com/assets/colab-badge.svg\" alt=\"Open In Colab\"/></a>"
      ]
    },
    {
      "cell_type": "code",
      "execution_count": 1,
      "metadata": {
        "colab": {
          "base_uri": "https://localhost:8080/",
          "height": 0
        },
        "id": "_5_w5gsqWhW_",
        "outputId": "e3ba9176-87d0-422e-8e2d-ddacb4010567"
      },
      "outputs": [
        {
          "output_type": "stream",
          "name": "stdout",
          "text": [
            "varuos\n"
          ]
        }
      ],
      "source": [
        "#@title reverse a string\n",
        "val=\"sourav\"\n",
        "new=val[::-1]\n",
        "print(new)"
      ]
    },
    {
      "cell_type": "code",
      "source": [
        "#@title reverse string without slicing\n",
        "val=\"sourav\"\n",
        "tem=\"\"\n",
        "for i in val:\n",
        "  tem=i+tem\n",
        "print(tem)\n"
      ],
      "metadata": {
        "colab": {
          "base_uri": "https://localhost:8080/",
          "height": 0
        },
        "id": "70id9mSyXnga",
        "outputId": "554a1a2a-a9cf-4618-8c51-20b5a446340f"
      },
      "execution_count": 4,
      "outputs": [
        {
          "output_type": "stream",
          "name": "stdout",
          "text": [
            "varuos\n"
          ]
        }
      ]
    },
    {
      "cell_type": "code",
      "source": [
        "#@title swap first and last element from list\n",
        "lst=[1,2,3,4] \n",
        "# lst[0],lst[-1]=lst[-1],lst[0]\n",
        "# print(lst)\n",
        "\n",
        "#another approach using classic swapping method\n",
        "a=lst[0]\n",
        "lst[0]=lst[-1]\n",
        "lst[-1]=a\n",
        "print(lst)"
      ],
      "metadata": {
        "colab": {
          "base_uri": "https://localhost:8080/",
          "height": 0
        },
        "id": "-dStx7b1Ykj-",
        "outputId": "c70b8c59-c501-442c-9b9b-45df9d174da7"
      },
      "execution_count": 8,
      "outputs": [
        {
          "output_type": "stream",
          "name": "stdout",
          "text": [
            "[4, 2, 3, 1]\n"
          ]
        }
      ]
    },
    {
      "cell_type": "code",
      "source": [
        "#@title find the length of the list without using function\n",
        "lst=[1,22,34,5,6,7,8]\n",
        "count=0\n",
        "for i in lst:\n",
        "  count+=1\n",
        "print(count)"
      ],
      "metadata": {
        "colab": {
          "base_uri": "https://localhost:8080/",
          "height": 0
        },
        "id": "KRmPd7gnaJ7B",
        "outputId": "a943a0b4-6944-4625-a1b7-c397c7cb2bbd"
      },
      "execution_count": 10,
      "outputs": [
        {
          "output_type": "stream",
          "name": "stdout",
          "text": [
            "7\n"
          ]
        }
      ]
    },
    {
      "cell_type": "code",
      "source": [
        "val=\"sourav\"\n",
        "print(val)"
      ],
      "metadata": {
        "id": "3mXCt1ced3ik"
      },
      "execution_count": null,
      "outputs": []
    }
  ]
}