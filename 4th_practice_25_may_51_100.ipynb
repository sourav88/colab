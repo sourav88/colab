{
  "nbformat": 4,
  "nbformat_minor": 0,
  "metadata": {
    "colab": {
      "provenance": [],
      "authorship_tag": "ABX9TyMT3ad3BVyXdzdrqFJf5JQl",
      "include_colab_link": true
    },
    "kernelspec": {
      "name": "python3",
      "display_name": "Python 3"
    },
    "language_info": {
      "name": "python"
    }
  },
  "cells": [
    {
      "cell_type": "markdown",
      "metadata": {
        "id": "view-in-github",
        "colab_type": "text"
      },
      "source": [
        "<a href=\"https://colab.research.google.com/github/sourav88/colab/blob/practice/4th_practice_25_may_51_100.ipynb\" target=\"_parent\"><img src=\"https://colab.research.google.com/assets/colab-badge.svg\" alt=\"Open In Colab\"/></a>"
      ]
    },
    {
      "cell_type": "code",
      "execution_count": null,
      "metadata": {
        "id": "cIMoaLWhz5TK",
        "colab": {
          "base_uri": "https://localhost:8080/"
        },
        "outputId": "4374f258-314c-4e09-8b29-81bfff546daf"
      },
      "outputs": [
        {
          "output_type": "stream",
          "name": "stdout",
          "text": [
            "Enter the number you want to split: 3\n",
            "[['a', 'd', 'g', 'j', 'm'], ['a', 'd', 'g', 'j', 'm'], ['a', 'd', 'g', 'j', 'm']]\n"
          ]
        }
      ],
      "source": [
        "#@title 1.Write a Python program to split a list every Nth element.\n",
        "lst=['a', 'b', 'c', 'd', 'e', 'f', 'g', 'h', 'i', 'j', 'k', 'l', 'm', 'n']\n",
        "n=int(input(\"Enter the number you want to split: \"))\n",
        "lst1=[]\n",
        "for i in range(n):\n",
        "  lst2=[]\n",
        "  for j in range(0,len(lst),n):\n",
        "    lst2.append(lst[j])\n",
        "  lst1.append(lst2)\n",
        "print(lst1)"
      ]
    },
    {
      "cell_type": "code",
      "source": [
        "#@title 2.Write a Python program to compute the difference between two lists.\n",
        "lst1=[\"red\", \"orange\", \"green\", \"blue\", \"white\"] \n",
        "lst2=[\"black\", \"yellow\", \"green\", \"blue\"]\n",
        "diff1=list(set(lst1)-set(lst2))\n",
        "diff2=list(set(lst2)-set(lst1))\n",
        "print(diff1)\n",
        "print(diff2)"
      ],
      "metadata": {
        "colab": {
          "base_uri": "https://localhost:8080/"
        },
        "id": "b5E6765q79Xy",
        "outputId": "90af4ca8-62c0-43e4-e91f-ac9ef1f9f18e"
      },
      "execution_count": null,
      "outputs": [
        {
          "output_type": "stream",
          "name": "stdout",
          "text": [
            "['orange', 'white', 'red']\n",
            "['black', 'yellow']\n"
          ]
        }
      ]
    },
    {
      "cell_type": "code",
      "source": [
        "#@title 3.Write a Python program to create a list with infinite elements.\n",
        "import itertools\n",
        "c=itertools.count()\n",
        "print(next(c))\n",
        "print(next(c))\n",
        "print(next(c))\n",
        "print(next(c))\n",
        "print(next(c))"
      ],
      "metadata": {
        "colab": {
          "base_uri": "https://localhost:8080/"
        },
        "id": "82TjhXVs9Fdi",
        "outputId": "da2e1c44-1134-44ca-edc1-a306af4f3a99"
      },
      "execution_count": null,
      "outputs": [
        {
          "output_type": "stream",
          "name": "stdout",
          "text": [
            "0\n",
            "1\n",
            "2\n",
            "3\n",
            "4\n"
          ]
        }
      ]
    },
    {
      "cell_type": "code",
      "source": [],
      "metadata": {
        "id": "tzTRmKFG9prN"
      },
      "execution_count": null,
      "outputs": []
    },
    {
      "cell_type": "code",
      "source": [
        "#@title 4.Write a Python program to concatenate elements of a list.\n",
        "color = ['red', 'green', 'orange']\n",
        "j=''\n",
        "for i in color:\n",
        "  s=''.join(i)\n",
        "  j+=s\n",
        "print(j)\n",
        "#2nd\n",
        "jo=''.join(color)\n",
        "print(jo)"
      ],
      "metadata": {
        "colab": {
          "base_uri": "https://localhost:8080/"
        },
        "id": "mqhaiM7A9tsR",
        "outputId": "90ca5a6d-1ad0-4541-b1b7-ad6d4599ed78"
      },
      "execution_count": null,
      "outputs": [
        {
          "output_type": "stream",
          "name": "stdout",
          "text": [
            "redgreenorange\n",
            "redgreenorange\n"
          ]
        }
      ]
    },
    {
      "cell_type": "code",
      "source": [
        "#@title 5.Write a Python program to remove key-value pairs from a list of dictionaries.\n",
        "dic = [{'key1':'value1', 'key2':'value2'}, {'key1':'value3', 'key2':'value4'}]\n",
        "new=[{k: v for k,v in d.items() if k!='key1'} for d in dic]\n",
        "print(new)"
      ],
      "metadata": {
        "colab": {
          "base_uri": "https://localhost:8080/"
        },
        "id": "VVJ4Ld6CHGil",
        "outputId": "c97f1567-6a97-402b-fe1a-df20131459ce"
      },
      "execution_count": null,
      "outputs": [
        {
          "output_type": "stream",
          "name": "stdout",
          "text": [
            "[{'key2': 'value2'}, {'key2': 'value4'}]\n"
          ]
        }
      ]
    },
    {
      "cell_type": "code",
      "source": [
        "#@title 6.Write a Python program to convert a string to a list.\n",
        "st=\"my name is sourav shome\"\n",
        "lst=st.split(\" \")\n",
        "print(lst)"
      ],
      "metadata": {
        "id": "dVpc9nrSFmPR",
        "colab": {
          "base_uri": "https://localhost:8080/"
        },
        "outputId": "99cb3d3e-4423-4c1b-918c-de3914827c78"
      },
      "execution_count": null,
      "outputs": [
        {
          "output_type": "stream",
          "name": "stdout",
          "text": [
            "['my', 'name', 'is', 'sourav', 'shome']\n"
          ]
        }
      ]
    },
    {
      "cell_type": "code",
      "source": [
        "#@title 7.Write a Python program to check if all items in a given list of strings are equal to a given string.\n",
        "color1 = [\"green\", \"orange\", \"black\", \"white\"]\n",
        "color2 = [\"green\", \"green\", \"green\", \"green\"]\n",
        "print(all(c == 'blue' for c in color1))\n",
        "print(all(c==\"green\" for c in color2))\n"
      ],
      "metadata": {
        "colab": {
          "base_uri": "https://localhost:8080/"
        },
        "id": "6da-Ek6vefWP",
        "outputId": "55256f1f-16fa-4aef-c8d9-f02fdbb82d66"
      },
      "execution_count": null,
      "outputs": [
        {
          "output_type": "stream",
          "name": "stdout",
          "text": [
            "False\n",
            "True\n"
          ]
        }
      ]
    },
    {
      "cell_type": "code",
      "source": [
        "#@title 8.Write a Python program to replace the last element in a list with another list.\n",
        "lst=[1, 3, 5, 7, 9, 10]\n",
        "lst2= [2, 4, 6, 8]\n",
        "# for i in range(len(lst)):\n",
        "lst[-1:]=lst2\n",
        "print(lst)"
      ],
      "metadata": {
        "colab": {
          "base_uri": "https://localhost:8080/"
        },
        "id": "61lPnTT_gK82",
        "outputId": "803185e0-3eca-418b-bd47-265fd4e98fe0"
      },
      "execution_count": null,
      "outputs": [
        {
          "output_type": "stream",
          "name": "stdout",
          "text": [
            "[1, 3, 5, 7, 9, 2, 4, 6, 8]\n"
          ]
        }
      ]
    },
    {
      "cell_type": "code",
      "source": [
        "#@title 9.Write a Python program to check whether the n-th element exists in a given list.\n",
        "x = [1, 2, 3, 4, 5, 6]\n",
        "n=5\n",
        "\n",
        "if len(x)<n:\n",
        "  print(\"element is not present in the list\")\n",
        "else:\n",
        "  print(\"element is exist in the list,element is\",x[n])\n"
      ],
      "metadata": {
        "colab": {
          "base_uri": "https://localhost:8080/"
        },
        "id": "dKcNG2krmxdd",
        "outputId": "bfd19925-f159-42f7-99a1-ac5dc7b29784"
      },
      "execution_count": null,
      "outputs": [
        {
          "output_type": "stream",
          "name": "stdout",
          "text": [
            "element is exist in the list,element is 6\n"
          ]
        }
      ]
    },
    {
      "cell_type": "code",
      "source": [
        "#@title 10.Write a Python program to find a tuple, the smallest second index value from a list of tuples.\n",
        "lst = [(4, 1), (1, 2), (6, 0)]\n",
        "min=float('inf')\n",
        "min2=None\n",
        "for tuple in lst:\n",
        "  if tuple[1]<min:\n",
        "    min2=tuple\n",
        "    min=tuple[1]\n",
        "print(min2)\n",
        "\n",
        "#2nd approach\n",
        "\n",
        "smallest_tuple = min(lst, key=lambda x: x[1]) #not work on collab but work on pycharm, jupyter\n",
        "print(smallest_tuple)\n"
      ],
      "metadata": {
        "id": "eO7oAQonfEIc",
        "colab": {
          "base_uri": "https://localhost:8080/",
          "height": 236
        },
        "outputId": "fc558191-9da4-4515-c497-390e3a72e10a"
      },
      "execution_count": null,
      "outputs": [
        {
          "output_type": "stream",
          "name": "stdout",
          "text": [
            "(6, 0)\n"
          ]
        },
        {
          "output_type": "error",
          "ename": "TypeError",
          "evalue": "ignored",
          "traceback": [
            "\u001b[0;31m---------------------------------------------------------------------------\u001b[0m",
            "\u001b[0;31mTypeError\u001b[0m                                 Traceback (most recent call last)",
            "\u001b[0;32m<ipython-input-3-8afd80ce90cb>\u001b[0m in \u001b[0;36m<cell line: 13>\u001b[0;34m()\u001b[0m\n\u001b[1;32m     11\u001b[0m \u001b[0;31m#2nd approach\u001b[0m\u001b[0;34m\u001b[0m\u001b[0;34m\u001b[0m\u001b[0m\n\u001b[1;32m     12\u001b[0m \u001b[0;34m\u001b[0m\u001b[0m\n\u001b[0;32m---> 13\u001b[0;31m \u001b[0msmallest_tuple\u001b[0m \u001b[0;34m=\u001b[0m \u001b[0mmin\u001b[0m\u001b[0;34m(\u001b[0m\u001b[0mlst\u001b[0m\u001b[0;34m,\u001b[0m \u001b[0mkey\u001b[0m\u001b[0;34m=\u001b[0m\u001b[0;32mlambda\u001b[0m \u001b[0mx\u001b[0m\u001b[0;34m:\u001b[0m \u001b[0mx\u001b[0m\u001b[0;34m[\u001b[0m\u001b[0;36m1\u001b[0m\u001b[0;34m]\u001b[0m\u001b[0;34m)\u001b[0m \u001b[0;31m#not work on collab but work on pycharm, jupyter\u001b[0m\u001b[0;34m\u001b[0m\u001b[0;34m\u001b[0m\u001b[0m\n\u001b[0m\u001b[1;32m     14\u001b[0m \u001b[0mprint\u001b[0m\u001b[0;34m(\u001b[0m\u001b[0msmallest_tuple\u001b[0m\u001b[0;34m)\u001b[0m\u001b[0;34m\u001b[0m\u001b[0;34m\u001b[0m\u001b[0m\n",
            "\u001b[0;31mTypeError\u001b[0m: 'int' object is not callable"
          ]
        }
      ]
    },
    {
      "cell_type": "code",
      "source": [
        "#@title 11.Write a Python program to create a list of empty dictionaries.\n",
        "n=5\n",
        "lst=[{}]*n\n",
        "print(lst)\n",
        "\n",
        "#2nd approach\n",
        "lst1=[{} for _ in range(5)]\n",
        "print(lst1)"
      ],
      "metadata": {
        "colab": {
          "base_uri": "https://localhost:8080/"
        },
        "id": "UhWrknZqHVwf",
        "outputId": "9741392e-3b67-4ef4-ed2c-0c325b17ed5b"
      },
      "execution_count": null,
      "outputs": [
        {
          "output_type": "stream",
          "name": "stdout",
          "text": [
            "[{}, {}, {}, {}, {}]\n",
            "[{}, {}, {}, {}, {}]\n"
          ]
        }
      ]
    },
    {
      "cell_type": "code",
      "source": [
        "#@title 12.Write a Python program to print a list of space-separated elements.\n",
        "num = [1, 2, 3, 4, 5]\n",
        "new=[]\n",
        "for i in num:\n",
        "  new.append(str(i))\n",
        "  x=' '.join(new)\n",
        "print(x)\n",
        "\n",
        "#2nd\n",
        "ls=[str(i) for i in num]\n",
        "xx=' '.join(ls)\n",
        "print(xx)\n",
        "\n",
        "#3rd\n",
        "print(*num)"
      ],
      "metadata": {
        "colab": {
          "base_uri": "https://localhost:8080/"
        },
        "id": "5FASuAW2HNXs",
        "outputId": "69a85b18-78ca-4f7d-c607-52b6228d64fe"
      },
      "execution_count": null,
      "outputs": [
        {
          "output_type": "stream",
          "name": "stdout",
          "text": [
            "1 2 3 4 5\n",
            "1 2 3 4 5\n",
            "1 2 3 4 5\n"
          ]
        }
      ]
    },
    {
      "cell_type": "code",
      "source": [
        "#@title 13.Write a Python program to insert a given string at the beginning of all items in a list.\n",
        "lst=[1,2,3,4]\n",
        "lst1=[]\n",
        "st='emp'\n",
        "for i in lst:\n",
        "  lst1.append(st+str(i))\n",
        "print(lst1)"
      ],
      "metadata": {
        "colab": {
          "base_uri": "https://localhost:8080/"
        },
        "id": "vV93BL6fLPRF",
        "outputId": "59845c00-6209-473f-e50c-b97ebe36542e"
      },
      "execution_count": null,
      "outputs": [
        {
          "output_type": "stream",
          "name": "stdout",
          "text": [
            "['emp1', 'emp2', 'emp3', 'emp4']\n"
          ]
        }
      ]
    },
    {
      "cell_type": "code",
      "source": [
        "#@title 14.Write a Python program to iterate over two lists simultaneously.\n",
        "num = [1, 2, 3]\n",
        "color = ['red', 'white', 'black']\n",
        "for i,j in zip(num,color):\n",
        "  print(i,j)\n"
      ],
      "metadata": {
        "colab": {
          "base_uri": "https://localhost:8080/"
        },
        "id": "q87UJZMyQS1m",
        "outputId": "5b58f38a-71fb-47d6-afee-0012e86c312d"
      },
      "execution_count": null,
      "outputs": [
        {
          "output_type": "stream",
          "name": "stdout",
          "text": [
            "1 red\n",
            "2 white\n",
            "3 black\n"
          ]
        }
      ]
    },
    {
      "cell_type": "code",
      "source": [
        "#@title 15.Write a Python program to move all zero digits to the end of a given list of numbers.\n",
        "lst=[3, 4, 0, 0, 0, 6, 2, 0, 6, 7, 6, 0, 0, 0, 9, 10, 7, 4, 4, 5, 3, 0, 0, 2, 9, 7, 1]\n",
        "lst1=[]\n",
        "lst2=[]\n",
        "for i in lst:\n",
        "  if i==0:\n",
        "    lst1.append(i)\n",
        "  else:\n",
        "    lst2.append(i)\n",
        "lst2.extend(lst1)\n",
        "print(lst2)\n",
        "\n",
        "#2nd\n",
        "# zeros=lst.count(0)\n",
        "# lst=[i for i in lst if i!=0]\n",
        "# lst.extend([0]*zeros)\n",
        "# print(lst)"
      ],
      "metadata": {
        "colab": {
          "base_uri": "https://localhost:8080/"
        },
        "id": "U0EA5mcQSF9W",
        "outputId": "3977768f-8581-40a6-b1d1-c96945d33287"
      },
      "execution_count": null,
      "outputs": [
        {
          "output_type": "stream",
          "name": "stdout",
          "text": [
            "[3, 4, 6, 2, 6, 7, 6, 9, 10, 7, 4, 4, 5, 3, 2, 9, 7, 1, 0, 0, 0, 0, 0, 0, 0, 0, 0]\n"
          ]
        }
      ]
    },
    {
      "cell_type": "code",
      "source": [
        "\n",
        "#@title 16.Write a Python program to find the list in a list of lists whose sum of elements is the highest.\n",
        "lst=[[1,2,3], [4,5,6], [10,11,12], [7,8,9]]\n",
        "res=max(lst, key= sum)\n",
        "print(res)"
      ],
      "metadata": {
        "colab": {
          "base_uri": "https://localhost:8080/"
        },
        "id": "U7B8tHtb0EXd",
        "outputId": "bc5e794a-5b1a-410b-e1f1-adfbf8efcb0b"
      },
      "execution_count": null,
      "outputs": [
        {
          "output_type": "stream",
          "name": "stdout",
          "text": [
            "[10, 11, 12]\n"
          ]
        }
      ]
    },
    {
      "cell_type": "code",
      "source": [
        "#@title 17.Write a Python program to find all the values in a list that are greater than a specified number.\n",
        "list1 = [220, 330, 500]\n",
        "list2 = [12, 17, 21]\n",
        "res1=[int(i) for i in list1 if i>=200]\n",
        "print(res1)\n",
        "res2=[int(i) for i in list2 if i>=25]\n",
        "print(res2)"
      ],
      "metadata": {
        "colab": {
          "base_uri": "https://localhost:8080/"
        },
        "id": "QZMqh7JmmJk5",
        "outputId": "0ce4cadb-85a0-4b8d-d025-90f5e4f748f2"
      },
      "execution_count": null,
      "outputs": [
        {
          "output_type": "stream",
          "name": "stdout",
          "text": [
            "[220, 330, 500]\n",
            "[]\n"
          ]
        }
      ]
    },
    {
      "cell_type": "code",
      "source": [
        "#@title 18.Write a Python program to extend a list without appending.\n",
        "lst=[10, 20, 30]\n",
        "lst1=[40, 50, 60]\n",
        "# lst[:0]=lst1\n",
        "# print(lst)\n",
        "\n",
        "#2nd\n",
        "lst[len(lst):]=lst1\n",
        "print(lst)"
      ],
      "metadata": {
        "colab": {
          "base_uri": "https://localhost:8080/"
        },
        "id": "pYfkBcm-snbj",
        "outputId": "a28dc7c5-cbf1-4bcf-ed59-eb01ee9520e2"
      },
      "execution_count": null,
      "outputs": [
        {
          "output_type": "stream",
          "name": "stdout",
          "text": [
            "[10, 20, 30, 40, 50, 60]\n"
          ]
        }
      ]
    },
    {
      "cell_type": "code",
      "source": [
        "#@title 19.Write a Python program to remove duplicates from a list of lists.\n",
        "lst=[[10, 20], [40], [30, 56, 25], [10, 20], [33], [40]]\n",
        "new=[]\n",
        "for i in lst:\n",
        "  if i not in new:\n",
        "    new.append(i)\n",
        "print(new)\n",
        "\n",
        "#2nd\n",
        "res=[]\n",
        "[res.append(x) for x in lst if x not in res]\n",
        "print(res)\n",
        "\n",
        "#3rd\n",
        "s=[lst[i] for i in range(len(lst)) if i==lst.index(lst[i])]\n",
        "print(s)\n"
      ],
      "metadata": {
        "colab": {
          "base_uri": "https://localhost:8080/"
        },
        "id": "f8pwneGFyotW",
        "outputId": "b8469007-4e55-44f3-f596-924dc2b9ed38"
      },
      "execution_count": null,
      "outputs": [
        {
          "output_type": "stream",
          "name": "stdout",
          "text": [
            "[[10, 20], [40], [30, 56, 25], [33]]\n",
            "[[10, 20], [40], [30, 56, 25], [33]]\n",
            "[[10, 20], [40], [30, 56, 25], [33]]\n"
          ]
        }
      ]
    },
    {
      "cell_type": "code",
      "source": [
        "#@title 20.Write a Python program to find items starting with a specific character from a list.\n",
        "lst=['abcd', 'abc', 'bcd', 'bkie', 'cder', 'cdsw', 'sdfsd', 'dagfa', 'acjd']\n",
        "val=[]\n",
        "for i in lst:\n",
        "  if 'a'==i[0]:\n",
        "    val.append(i)\n",
        "print(val)\n",
        "\n",
        "#2nd\n",
        "zz=[i for i in lst if 'd'==i[0]]\n",
        "print(zz)"
      ],
      "metadata": {
        "colab": {
          "base_uri": "https://localhost:8080/"
        },
        "id": "nmTlIuq16Cfw",
        "outputId": "93b9b981-5c5e-487a-cafe-3717d61bff77"
      },
      "execution_count": null,
      "outputs": [
        {
          "output_type": "stream",
          "name": "stdout",
          "text": [
            "['abcd', 'abc', 'acjd']\n",
            "['dagfa']\n"
          ]
        }
      ]
    },
    {
      "cell_type": "code",
      "source": [
        "#@title 21.Write a Python program to check whether all dictionaries in a list are empty or not.\n",
        "lst=[{},{},{}]\n",
        "my_list1 = [{1:2},{},{}]\n",
        "res=all(len(i)==0 for i in lst)\n",
        "print(res)\n",
        "res2=all(len(i)==0 for i in my_list1)\n",
        "print(res2)"
      ],
      "metadata": {
        "colab": {
          "base_uri": "https://localhost:8080/"
        },
        "id": "UjEQ4lTY80vF",
        "outputId": "07b3523d-2eff-4a99-cb4c-8f6da9d75821"
      },
      "execution_count": null,
      "outputs": [
        {
          "output_type": "stream",
          "name": "stdout",
          "text": [
            "True\n",
            "False\n"
          ]
        }
      ]
    },
    {
      "cell_type": "code",
      "source": [
        "#@title 22.rite a Python program to flatten a given nested list structure\n",
        "lst=[0, 10, [20, 30], 40, 50, [60, 70, 80], [90, 100, 110, 120]]\n",
        "val=[]\n",
        "for i in lst:\n",
        "  if type(i)==list:\n",
        "   val.extend(i) \n",
        "  else:\n",
        "    val.append(i)\n",
        "print(val)"
      ],
      "metadata": {
        "colab": {
          "base_uri": "https://localhost:8080/"
        },
        "id": "jUHnJgWU-p0G",
        "outputId": "21ce83ee-470b-464d-f67e-c3d38a571c1c"
      },
      "execution_count": null,
      "outputs": [
        {
          "output_type": "stream",
          "name": "stdout",
          "text": [
            "[0, 10, 20, 30, 40, 50, 60, 70, 80, 90, 100, 110, 120]\n"
          ]
        }
      ]
    },
    {
      "cell_type": "code",
      "source": [
        "#@title 23.Write a Python program to remove consecutive (following each other continuously) duplicates (elements) from a given list.\n",
        "lst=[0, 0, 1, 2, 3, 4, 4, 5, 6, 6, 6, 7, 8, 9, 4, 4]\n",
        "last=''\n",
        "new=[]\n",
        "for i in lst:\n",
        "  if i!=last:\n",
        "    new.append(i)\n",
        "    last=i\n",
        "print(new)\n",
        "\n"
      ],
      "metadata": {
        "colab": {
          "base_uri": "https://localhost:8080/"
        },
        "id": "8k0tJLyuIR9D",
        "outputId": "210bc8a8-85a4-4a0d-a862-2178208bf3bb"
      },
      "execution_count": null,
      "outputs": [
        {
          "output_type": "stream",
          "name": "stdout",
          "text": [
            "[0, 1, 2, 3, 4, 5, 6, 7, 8, 9, 4]\n"
          ]
        }
      ]
    },
    {
      "cell_type": "code",
      "source": [
        "#@title 24.Write a Python program to pack consecutive duplicates of a given list of elements into sublists.\n",
        "lst=[0, 0, 1, 2, 3, 4, 4, 5, 6, 6, 6, 7, 8, 9, 4, 4]\n",
        "out=[[lst[0]]]\n",
        "for i in lst[1:]:\n",
        "  if i==out[-1][-1]:\n",
        "    out[-1].append(i)\n",
        "  else:\n",
        "    out.append([i])\n",
        "print(out)\n",
        "\n",
        "#2nd\n",
        "from itertools import groupby\n",
        "def pack_consecutive_duplicates(l_nums):\n",
        "    return [list(group) for key, group in groupby(l_nums)]\n",
        "n_list = [0, 0, 1, 2, 3, 4, 4, 5, 6, 6, 6, 7, 8, 9, 4, 4 ]\n",
        "print(\"Original list:\") \n",
        "print(n_list)"
      ],
      "metadata": {
        "colab": {
          "base_uri": "https://localhost:8080/"
        },
        "id": "P6u76RQIVQAO",
        "outputId": "339dd62f-d1df-4c93-8e44-180f661a83c4"
      },
      "execution_count": null,
      "outputs": [
        {
          "output_type": "stream",
          "name": "stdout",
          "text": [
            "[[0, 0], [1], [2], [3], [4, 4], [5], [6, 6, 6], [7], [8], [9], [4, 4]]\n"
          ]
        }
      ]
    },
    {
      "cell_type": "code",
      "source": [
        "#@title 25.Write a Python program to create a list reflecting the run-length encoding from a given list of integers or a given list of characters.\n",
        "lst=[1, 1, 2, 3, 4, 4.3, 5, 1]\n",
        "encoded_list = []\n",
        "count = 1\n",
        "\n",
        "for i in range(1, len(lst)):\n",
        "  if lst[i] == lst[i - 1]:\n",
        "    count += 1\n",
        "  else:\n",
        "    encoded_list.append([count, lst[i - 1]])\n",
        "    count = 1\n",
        "encoded_list.append([count, lst[-1]])\n",
        "print(encoded_list)"
      ],
      "metadata": {
        "colab": {
          "base_uri": "https://localhost:8080/"
        },
        "id": "aBl3yqN_Y7bi",
        "outputId": "ae0359b0-da8d-4438-f270-a7df1fd10b8c"
      },
      "execution_count": null,
      "outputs": [
        {
          "output_type": "stream",
          "name": "stdout",
          "text": [
            "[[2, 1], [1, 2], [1, 3], [1, 4], [1, 4.3], [1, 5], [1, 1]]\n"
          ]
        }
      ]
    },
    {
      "cell_type": "code",
      "source": [
        "#@title 27.Write a Python program to decode a run-length message.\n",
        "lst=[[2, 1], 2, 3, [2, 4], 5, 1]\n"
      ],
      "metadata": {
        "id": "PVPQ2PzZwgYZ"
      },
      "execution_count": null,
      "outputs": []
    },
    {
      "cell_type": "code",
      "source": [
        "#@title 28. Write a Python program to split a given list into two parts where the length of the first part of the list is given.\n",
        "lst=[1, 1, 2, 3, 4, 4, 5, 1]\n",
        "n=3\n",
        "a=lst[:3]\n",
        "b=lst[len(a):]\n",
        "print((a,b))"
      ],
      "metadata": {
        "colab": {
          "base_uri": "https://localhost:8080/"
        },
        "id": "ZtHMdN0UxRDs",
        "outputId": "553bbd5f-84e3-4f38-96a7-ba62e26843f0"
      },
      "execution_count": null,
      "outputs": [
        {
          "output_type": "stream",
          "name": "stdout",
          "text": [
            "([1, 1, 2], [3, 4, 4, 5, 1])\n"
          ]
        }
      ]
    },
    {
      "cell_type": "code",
      "source": [
        "#@title 29. Write a Python program to remove the K'th element from a given list, and print the updated list.\n",
        "lst=[1, 1, 2, 3, 4, 4, 5, 1]\n",
        "n=6\n",
        "lst.remove(lst[n])\n",
        "print(lst)"
      ],
      "metadata": {
        "colab": {
          "base_uri": "https://localhost:8080/"
        },
        "id": "OxVrJUmqz-Xm",
        "outputId": "ae753747-b895-4434-8066-94e162190c38"
      },
      "execution_count": null,
      "outputs": [
        {
          "output_type": "stream",
          "name": "stdout",
          "text": [
            "[1, 1, 2, 3, 4, 4, 1]\n"
          ]
        }
      ]
    },
    {
      "cell_type": "code",
      "source": [
        "#@title 30.Write a Python program to insert an element at a specified position into a given list.\n",
        "lst=[1, 1, 2, 3, 4, 4, 5, 1]\n"
      ],
      "metadata": {
        "id": "M0lyStkF2QTA"
      },
      "execution_count": null,
      "outputs": []
    },
    {
      "cell_type": "code",
      "source": [
        "#@title 31.Write a Python program to extract a given number of randomly selected elements from a given list.\n",
        "lst=[1, 1, 2, 3, 4, 4, 5, 1]\n",
        "import random\n"
      ],
      "metadata": {
        "id": "m_A6D6Iv43yE"
      },
      "execution_count": null,
      "outputs": []
    },
    {
      "cell_type": "code",
      "source": [
        "#@title 32.Write a Python program to generate combinations of n distinct objects taken from the elements of a given list.\n",
        "lst=[1, 2, 3, 4, 5, 6, 7, 8, 9]\n",
        "n=2\n",
        "from itertools import combinations\n",
        "comb=list(combinations(lst,n))\n",
        "print(comb)\n"
      ],
      "metadata": {
        "colab": {
          "base_uri": "https://localhost:8080/"
        },
        "id": "EUW22e6K7xdk",
        "outputId": "dd813ecf-79f5-4640-815a-158126c5913e"
      },
      "execution_count": null,
      "outputs": [
        {
          "output_type": "stream",
          "name": "stdout",
          "text": [
            "[(1, 2), (1, 3), (1, 4), (1, 5), (1, 6), (1, 7), (1, 8), (1, 9), (2, 3), (2, 4), (2, 5), (2, 6), (2, 7), (2, 8), (2, 9), (3, 4), (3, 5), (3, 6), (3, 7), (3, 8), (3, 9), (4, 5), (4, 6), (4, 7), (4, 8), (4, 9), (5, 6), (5, 7), (5, 8), (5, 9), (6, 7), (6, 8), (6, 9), (7, 8), (7, 9), (8, 9)]\n"
          ]
        }
      ]
    },
    {
      "cell_type": "code",
      "source": [
        "#@title 33.Write a Python program to round every number in a given list of numbers and print the total sum multiplied by the length of the list.\n",
        "lst=[22.4, 4.0, -16.22, -9.1, 11.0, -12.22, 14.2, -5.2, 17.5]\n",
        "lst1=[]\n",
        "for i in lst:\n",
        "  lst1.append(round(i))\n",
        "print(sum(lst1)*len(lst))"
      ],
      "metadata": {
        "colab": {
          "base_uri": "https://localhost:8080/"
        },
        "id": "60_xoJg59IAk",
        "outputId": "eeec6a63-5521-4dff-bb89-1b67d6d87bc0"
      },
      "execution_count": null,
      "outputs": [
        {
          "output_type": "stream",
          "name": "stdout",
          "text": [
            "243\n"
          ]
        }
      ]
    },
    {
      "cell_type": "code",
      "source": [
        "#@title 34.Write a Python program to create a multidimensional list (lists of lists) with zeros.\n",
        "num=[]\n",
        "for i in range(3):\n",
        "  num.append([])\n",
        "  for j in range(2):\n",
        "    num[i].append(0)\n",
        "print(num)"
      ],
      "metadata": {
        "colab": {
          "base_uri": "https://localhost:8080/"
        },
        "id": "pYM05BDNlkPG",
        "outputId": "472f3754-1850-47f5-ed63-0b2d7267cfaf"
      },
      "execution_count": null,
      "outputs": [
        {
          "output_type": "stream",
          "name": "stdout",
          "text": [
            "[[0, 0], [0, 0], [0, 0]]\n"
          ]
        }
      ]
    },
    {
      "cell_type": "code",
      "source": [
        "#@title 35.Write a Python program to create a 3X3 grid with numbers.\n",
        "num=[]\n",
        "for i in range(3):\n",
        "  num.append([])\n",
        "  for j in range(1,4):\n",
        "    num[i].append(j)\n",
        "print(num)"
      ],
      "metadata": {
        "colab": {
          "base_uri": "https://localhost:8080/"
        },
        "id": "C9FkKt0GnL31",
        "outputId": "30b8796b-03e3-4c29-9824-be04d28965ca"
      },
      "execution_count": null,
      "outputs": [
        {
          "output_type": "stream",
          "name": "stdout",
          "text": [
            "[[1, 2, 3], [1, 2, 3], [1, 2, 3]]\n"
          ]
        }
      ]
    },
    {
      "cell_type": "code",
      "source": [
        "#@title 36.Write a Python program to read a matrix from the console and print the sum for each column. As input from the user, accept matrix rows, columns, and elements separated by a space (each row).\n"
      ],
      "metadata": {
        "id": "aAQjnwDnnsnq"
      },
      "execution_count": null,
      "outputs": []
    },
    {
      "cell_type": "code",
      "source": [
        "#@title 37.Write a Python program to read a square matrix from the console and print the sum of the matrix's primary diagonal. Accept the size of the square matrix and elements for each column separated with a space (for every row) as input from the user.\n"
      ],
      "metadata": {
        "id": "8jpFKe51syYw"
      },
      "execution_count": null,
      "outputs": []
    },
    {
      "cell_type": "code",
      "source": [
        "#@title 38.Write a Python program to Zip two given lists of lists.\n",
        "lst1=[[1, 3], [5, 7], [9, 11]]\n",
        "lst2=[[2, 4], [6, 8], [10, 12, 14]]\n",
        "lst=[]\n",
        "for i,j in zip(lst1,lst2):\n",
        "  k=i+j\n",
        "  lst.append(k)\n",
        "print(lst)\n",
        "\n",
        "#2nd\n",
        "res=[m+n for m,n in zip(lst1,lst2)]\n",
        "print(res)"
      ],
      "metadata": {
        "colab": {
          "base_uri": "https://localhost:8080/"
        },
        "id": "3wvG9SkHs0nC",
        "outputId": "a94f8413-8479-4773-d50e-2d4d2a632a4c"
      },
      "execution_count": null,
      "outputs": [
        {
          "output_type": "stream",
          "name": "stdout",
          "text": [
            "[[1, 3, 2, 4], [5, 7, 6, 8], [9, 11, 10, 12, 14]]\n",
            "[[1, 3, 2, 4], [5, 7, 6, 8], [9, 11, 10, 12, 14]]\n"
          ]
        }
      ]
    },
    {
      "cell_type": "code",
      "source": [
        "#@title 39. Write a Python program to count the number of lists in a given list of lists.\n",
        "lst=[[1, 3], [5, 7], [9, 11], [13, 15, 17]]\n",
        "count=0\n",
        "for i in lst:\n",
        "    if type(i)==list:\n",
        "        count+=1\n",
        "print(count)\n",
        "\n",
        "list2 = [[2, 4], [[6,8], [4,5,8]], [10, 12, 14]]\n",
        "print(len(list2))\n"
      ],
      "metadata": {
        "colab": {
          "base_uri": "https://localhost:8080/"
        },
        "id": "gED82HtmuOUN",
        "outputId": "b47c69b5-842b-41dc-f4fc-d7507dac3f5a"
      },
      "execution_count": null,
      "outputs": [
        {
          "output_type": "stream",
          "name": "stdout",
          "text": [
            "4\n",
            "3\n"
          ]
        }
      ]
    },
    {
      "cell_type": "code",
      "source": [
        "#@title 40.Write a Python program to find a list with maximum and minimum lengths.\n",
        "def list_max(lst):\n",
        "  max=len(lst[0])\n",
        "  l=lst[0]\n",
        "  for i in lst:\n",
        "    if len(i)>max:\n",
        "      max=len(i)\n",
        "      l=i\n",
        "  return (max,l)\n",
        "\n",
        "def list_min(lst):\n",
        "  min=len(lst[0])\n",
        "  l=lst[0]\n",
        "  for i in lst:\n",
        "    if len(i)<min:\n",
        "      min=len(i)\n",
        "      l=i\n",
        "  return (min,l)\n",
        "\n",
        "lt=[[0], [1, 3], [5, 7], [9, 11], [13, 15, 17]]\n",
        "print(list_max(lt),'\\n',list_min(lt))"
      ],
      "metadata": {
        "colab": {
          "base_uri": "https://localhost:8080/"
        },
        "id": "TZzrEV4Ov3vz",
        "outputId": "fa49bcf9-c132-4367-8f1e-676d363f0d51"
      },
      "execution_count": null,
      "outputs": [
        {
          "output_type": "stream",
          "name": "stdout",
          "text": [
            "(3, [13, 15, 17]) \n",
            " (1, [0])\n"
          ]
        }
      ]
    },
    {
      "cell_type": "code",
      "source": [
        "#@title 41.Write a Python program to check if a nested list is a subset of another nested list.\n",
        "lst=[[1, 3], [5, 7], [9, 11], [13, 15, 17]]\n",
        "sub=[[1, 3], [13, 15, 17]]\n",
        "def check(sub,lst):\n",
        "  for sub in lst:\n",
        "    if sub not in lst:\n",
        "      print(False)\n",
        "  return True\n",
        "print(check(sub,lst))\n",
        "    "
      ],
      "metadata": {
        "id": "q3TQQf4e2sHa",
        "colab": {
          "base_uri": "https://localhost:8080/"
        },
        "outputId": "9e59a01c-f3e0-4d04-9a97-0bed63e2fcfc"
      },
      "execution_count": 4,
      "outputs": [
        {
          "output_type": "stream",
          "name": "stdout",
          "text": [
            "True\n"
          ]
        }
      ]
    },
    {
      "cell_type": "code",
      "source": [
        "#@title 42.Write a Python program to count the number of sublists that contain a particular element.\n",
        "lst=[[1, 3], [5, 7], [1, 11], [1, 15, 7]]\n",
        "n=7\n",
        "count=0\n",
        "for i in lst:\n",
        "  for x in i:\n",
        "    if x==n:\n",
        "      count+=1\n",
        "print(count)"
      ],
      "metadata": {
        "colab": {
          "base_uri": "https://localhost:8080/"
        },
        "id": "CsgGh4QwDDId",
        "outputId": "aa1d8f2c-dc43-4f1b-b508-1cd6e6678a1b"
      },
      "execution_count": 7,
      "outputs": [
        {
          "output_type": "stream",
          "name": "stdout",
          "text": [
            "2\n"
          ]
        }
      ]
    },
    {
      "cell_type": "code",
      "source": [
        "#@title 43.Wrie a Python program to count the number of unique sublists within a given list.\n",
        "lst=[[1, 3], [5, 7], [1, 3], [13, 15, 17], [5, 7], [9, 11]]\n",
        "dt={}\n",
        "for i in lst:\n",
        "  key=tuple(i)\n",
        "  if key in dt:\n",
        "    dt[key]+=1\n",
        "  else:\n",
        "    dt[key]=1\n",
        "print(dt)"
      ],
      "metadata": {
        "colab": {
          "base_uri": "https://localhost:8080/"
        },
        "id": "cEh8Dk23DgfA",
        "outputId": "83372ede-1bc5-401b-937a-80c57ddb44ba"
      },
      "execution_count": 16,
      "outputs": [
        {
          "output_type": "stream",
          "name": "stdout",
          "text": [
            "{(1, 3): 2, (5, 7): 2, (13, 15, 17): 1, (9, 11): 1}\n"
          ]
        }
      ]
    },
    {
      "cell_type": "code",
      "source": [
        "#@title 44.Write a Python program to sort each sublist of strings in a given list of lists.\n",
        "lst=[[2], [0], [1, 3], [0, 7], [9, 11], [13, 15, 17]]\n",
        "lst.sort()\n",
        "print(lst)"
      ],
      "metadata": {
        "colab": {
          "base_uri": "https://localhost:8080/"
        },
        "id": "PTKwWhzSfrNg",
        "outputId": "8d047640-88eb-4afd-df13-d2c3b3cf3019"
      },
      "execution_count": 21,
      "outputs": [
        {
          "output_type": "stream",
          "name": "stdout",
          "text": [
            "[[0], [0, 7], [1, 3], [2], [9, 11], [13, 15, 17]]\n"
          ]
        }
      ]
    },
    {
      "cell_type": "code",
      "source": [
        "#@title 45.Write a Python program to sort a given list of lists by length and value.\n",
        "lst=[[2], [0], [1, 3], [0, 7], [9, 11], [13, 15, 17]]\n",
        "lst.sort(key=len)\n",
        "print(lst)"
      ],
      "metadata": {
        "colab": {
          "base_uri": "https://localhost:8080/"
        },
        "id": "LkbHYd97gah8",
        "outputId": "c670507c-5995-4e80-db32-2b460ac3c306"
      },
      "execution_count": 22,
      "outputs": [
        {
          "output_type": "stream",
          "name": "stdout",
          "text": [
            "[[2], [0], [1, 3], [0, 7], [9, 11], [13, 15, 17]]\n"
          ]
        }
      ]
    },
    {
      "cell_type": "code",
      "source": [
        "#@title 46.Write a Python program to remove sublists from a given list of lists that contain an element outside a given range.\n",
        "lst=[[2], [0], [1, 2, 3], [0, 1, 2, 3, 6, 7], [9, 11], [13, 14, 15, 17]]\n",
        "min=13\n",
        "max=17\n",
        "res=[]\n",
        "for i in lst:\n",
        "  valid=True\n",
        "  for x in i:\n",
        "    if x<min or x>max:\n",
        "      valid=False\n",
        "      break\n",
        "if valid:\n",
        "  res.append(i)\n",
        "print(res)"
      ],
      "metadata": {
        "colab": {
          "base_uri": "https://localhost:8080/"
        },
        "id": "fUVNKovUg1w-",
        "outputId": "073c608a-a83e-44f7-f7cd-80077e9bb653"
      },
      "execution_count": 2,
      "outputs": [
        {
          "output_type": "stream",
          "name": "stdout",
          "text": [
            "[[13, 14, 15, 17]]\n"
          ]
        }
      ]
    },
    {
      "cell_type": "code",
      "source": [
        "#@title 47.Write a Python program to scramble the letters of a string in a given list.\n",
        "lst=['Python', 'list', 'exercises', 'practice', 'solution']\n",
        "def shuffle_word(lis):\n",
        "  text=list(lis)\n",
        "  shuffle(text)\n",
        "  return ''.join(text)\n",
        "res=[shuffle_word(i) for i in lst]\n",
        "print(res)\n",
        "\n"
      ],
      "metadata": {
        "colab": {
          "base_uri": "https://localhost:8080/"
        },
        "id": "6gmPMPcINMo_",
        "outputId": "e71ad012-5670-41d5-a269-c277f04b9254"
      },
      "execution_count": 16,
      "outputs": [
        {
          "output_type": "stream",
          "name": "stdout",
          "text": [
            "['oyPtnh', 'tils', 'ssrexeiec', 'acpitecr', 'tnoolius']\n"
          ]
        }
      ]
    },
    {
      "cell_type": "code",
      "source": [
        "#2nd approach\n",
        "import random\n",
        "\n",
        "def scramble_string(string, indices):\n",
        "    char_list = list(string)\n",
        "    random.shuffle(indices)\n",
        "    scrambled = [char_list[i] for i in indices]\n",
        "    return ''.join(scrambled)\n",
        "\n",
        "# Example usage\n",
        "my_string = \"example\"\n",
        "my_indices = [3, 1, 5, 2, 4, 0]\n",
        "scrambled_string = scramble_string(my_string, my_indices)\n",
        "print(scrambled_string)\n"
      ],
      "metadata": {
        "id": "tV4yP3HpTUgV"
      },
      "execution_count": null,
      "outputs": []
    },
    {
      "cell_type": "code",
      "source": [
        "#@title 48.Write a Python program to find the maximum and minimum values in a given heterogeneous list.\n",
        "lst=['Python', 3, 2, 4, 5, 'version']\n",
        "lst1=[]\n",
        "for i in lst:\n",
        "  if isinstance(i,int):\n",
        "    lst1.append(i)\n",
        "print(max(lst1))\n",
        "print(min(lst1))\n"
      ],
      "metadata": {
        "id": "70YP2pT9Uk7Q"
      },
      "execution_count": null,
      "outputs": []
    },
    {
      "cell_type": "code",
      "source": [
        "#@title 49.Write a Python program to extract common index elements from more than one given list.\n",
        "lst1=[1, 1, 3, 4, 5, 6, 7]\n",
        "lst2=[0, 1, 2, 3, 4, 5, 7]\n",
        "lst3=[0, 1, 2, 3, 4, 5, 7]\n",
        "res=[]\n",
        "for i,j,k in zip(lst1,lst2,lst3):\n",
        "  if i==j==k:\n",
        "    res.append(i)\n",
        "print(res)"
      ],
      "metadata": {
        "colab": {
          "base_uri": "https://localhost:8080/"
        },
        "id": "ys4ywR9xYEp7",
        "outputId": "fee8bf9c-028c-4ec6-ad9c-7c39a93c71bb"
      },
      "execution_count": 21,
      "outputs": [
        {
          "output_type": "stream",
          "name": "stdout",
          "text": [
            "[1, 7]\n"
          ]
        }
      ]
    },
    {
      "cell_type": "code",
      "source": [],
      "metadata": {
        "id": "qTSLaNL9a_C0"
      },
      "execution_count": null,
      "outputs": []
    }
  ]
}