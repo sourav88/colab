{
  "nbformat": 4,
  "nbformat_minor": 0,
  "metadata": {
    "colab": {
      "provenance": [],
      "toc_visible": true,
      "authorship_tag": "ABX9TyMnI5KHY0Qgl3su0qZ9ZUY1",
      "include_colab_link": true
    },
    "kernelspec": {
      "name": "python3",
      "display_name": "Python 3"
    },
    "language_info": {
      "name": "python"
    }
  },
  "cells": [
    {
      "cell_type": "markdown",
      "metadata": {
        "id": "view-in-github",
        "colab_type": "text"
      },
      "source": [
        "<a href=\"https://colab.research.google.com/github/sourav88/colab/blob/practice/2nd_practice_10_May.ipynb\" target=\"_parent\"><img src=\"https://colab.research.google.com/assets/colab-badge.svg\" alt=\"Open In Colab\"/></a>"
      ]
    },
    {
      "cell_type": "code",
      "execution_count": 3,
      "metadata": {
        "colab": {
          "base_uri": "https://localhost:8080/"
        },
        "id": "JMWbEjH9GfVR",
        "outputId": "59486f61-9cdd-426c-dca5-2c77163bebe8"
      },
      "outputs": [
        {
          "output_type": "stream",
          "name": "stdout",
          "text": [
            "[[['*', '*', '*', '*', '*', '*'], ['*', '*', '*', '*', '*', '*'], ['*', '*', '*', '*', '*', '*'], ['*', '*', '*', '*', '*', '*']], [['*', '*', '*', '*', '*', '*'], ['*', '*', '*', '*', '*', '*'], ['*', '*', '*', '*', '*', '*'], ['*', '*', '*', '*', '*', '*']], [['*', '*', '*', '*', '*', '*'], ['*', '*', '*', '*', '*', '*'], ['*', '*', '*', '*', '*', '*'], ['*', '*', '*', '*', '*', '*']]]\n"
          ]
        }
      ],
      "source": [
        "#@title  1.Write a Python program to generate a 3 * 4 * 6 3D array whose each element is *.\n",
        "array= [[['*' for row in range(6)] for row in range(4)] for row in range(3)]\n",
        "print(array)"
      ]
    },
    {
      "cell_type": "code",
      "source": [
        "#@title 2.Write a Python program to print the numbers of a specified list after removing even numbers from it.\n",
        "# num=[7,8, 120, 25, 44, 20, 27]\n",
        "# lst=[]\n",
        "# for i in num:\n",
        "#   if i%2!=0:\n",
        "#     lst.append(i)\n",
        "# print(lst)\n",
        "\n",
        "#2nd approch using list comprehension\n",
        "num=[x for x in num if x%2!=0]\n",
        "print(num)"
      ],
      "metadata": {
        "colab": {
          "base_uri": "https://localhost:8080/"
        },
        "id": "GrP3Y-7NIVP1",
        "outputId": "94da844e-35b3-4b1f-827d-a5023dc97a12"
      },
      "execution_count": 3,
      "outputs": [
        {
          "output_type": "stream",
          "name": "stdout",
          "text": [
            "[7, 25, 27]\n"
          ]
        }
      ]
    },
    {
      "cell_type": "code",
      "source": [
        "#@title 3.Write a Python program to shuffle and print a specified list.\n",
        "from random import shuffle\n",
        "color=['Red', 'Green', 'White', 'Black', 'Pink', 'Yellow']\n",
        "shuffle(color)\n",
        "print(color)"
      ],
      "metadata": {
        "colab": {
          "base_uri": "https://localhost:8080/"
        },
        "id": "8E2laxcjtGjc",
        "outputId": "4bfd7a87-0c6f-44d9-8bab-66e7395a18e0"
      },
      "execution_count": 4,
      "outputs": [
        {
          "output_type": "stream",
          "name": "stdout",
          "text": [
            "['Pink', 'Red', 'White', 'Black', 'Yellow', 'Green']\n"
          ]
        }
      ]
    },
    {
      "cell_type": "code",
      "source": [
        "#@title 4.Write a Python program to generate and print a list of the first and last 5 elements where the values are square numbers between 1 and 30 (both included).\n",
        "lst=[]\n",
        "for i in range(1,31):\n",
        "  lst.append(i**2)\n",
        "print(lst[:5])\n",
        "print(lst[-5:])"
      ],
      "metadata": {
        "colab": {
          "base_uri": "https://localhost:8080/"
        },
        "id": "fxXUvMjduBsn",
        "outputId": "f9aec26e-cad5-4f3a-c8b5-aeec9bc13690"
      },
      "execution_count": 10,
      "outputs": [
        {
          "output_type": "stream",
          "name": "stdout",
          "text": [
            "[1, 4, 9, 16, 25]\n",
            "[676, 729, 784, 841, 900]\n"
          ]
        }
      ]
    },
    {
      "cell_type": "code",
      "source": [
        "#@title 5.Write a Python program to check if each number is prime in a given list of numbers. Return True if all numbers are prime otherwise False.\n",
        "lst=[2, 3, 5, 7, 13]\n",
        "flag=True\n",
        "for i in lst:\n",
        "  if i==0:\n",
        "    flag=False\n",
        "    print(flag)\n",
        "  elif i==1:\n",
        "    flag=False\n",
        "    print(flag)\n",
        "  elif i!=1:\n",
        "    for x in range(2,i):\n",
        "      if i%x==0:\n",
        "        flag=False\n",
        "  else:\n",
        "    flag=True\n",
        "print(flag)"
      ],
      "metadata": {
        "colab": {
          "base_uri": "https://localhost:8080/"
        },
        "id": "jza6XDq9xQK6",
        "outputId": "b3f72f32-d819-401f-c63f-e724172cbff5"
      },
      "execution_count": 15,
      "outputs": [
        {
          "output_type": "stream",
          "name": "stdout",
          "text": [
            "True\n"
          ]
        }
      ]
    },
    {
      "cell_type": "code",
      "source": [
        "#@title 6.write a python code to print all the posible number whose multiplication will be 100\n",
        "# for i in range(1,101):\n",
        "#   if 100%i==0:\n",
        "#     res=100//i\n",
        "#     print(i,',',res)\n",
        "\n",
        "#approch 2\n",
        "for i in range(1,101):\n",
        "  for j in range(1,101):\n",
        "    if i*j==100:\n",
        "      print(i,j)"
      ],
      "metadata": {
        "colab": {
          "base_uri": "https://localhost:8080/"
        },
        "id": "tmemSZwf0Naf",
        "outputId": "e8dea688-a1e3-4e93-8a0a-ca6c1c6da5bf"
      },
      "execution_count": 29,
      "outputs": [
        {
          "output_type": "stream",
          "name": "stdout",
          "text": [
            "1 100\n",
            "2 50\n",
            "4 25\n",
            "5 20\n",
            "10 10\n",
            "20 5\n",
            "25 4\n",
            "50 2\n",
            "100 1\n"
          ]
        }
      ]
    },
    {
      "cell_type": "code",
      "source": [
        "#@title thank you so much"
      ],
      "metadata": {
        "id": "njIfUwB9_l7R"
      },
      "execution_count": null,
      "outputs": []
    }
  ]
}