{
  "nbformat": 4,
  "nbformat_minor": 0,
  "metadata": {
    "colab": {
      "provenance": [],
      "authorship_tag": "ABX9TyOHoQxQ32Cf/9JFZsU0Caq3",
      "include_colab_link": true
    },
    "kernelspec": {
      "name": "python3",
      "display_name": "Python 3"
    },
    "language_info": {
      "name": "python"
    }
  },
  "cells": [
    {
      "cell_type": "markdown",
      "metadata": {
        "id": "view-in-github",
        "colab_type": "text"
      },
      "source": [
        "<a href=\"https://colab.research.google.com/github/sourav88/colab/blob/practice/3rd_practice_11_May.ipynb\" target=\"_parent\"><img src=\"https://colab.research.google.com/assets/colab-badge.svg\" alt=\"Open In Colab\"/></a>"
      ]
    },
    {
      "cell_type": "code",
      "execution_count": null,
      "metadata": {
        "colab": {
          "base_uri": "https://localhost:8080/"
        },
        "id": "sMFUzWOh-YgX",
        "outputId": "4397d4c9-ddff-482e-c412-0bcce80081c2"
      },
      "outputs": [
        {
          "output_type": "stream",
          "name": "stdout",
          "text": [
            "[(1, 2, 3), (1, 3, 2), (2, 1, 3), (2, 3, 1), (3, 1, 2), (3, 2, 1)]\n"
          ]
        }
      ],
      "source": [
        "#@title 1.Write a Python program to generate all permutations of a list in Python.\n",
        "import itertools\n",
        "print(list(itertools.permutations([1,2,3])))"
      ]
    },
    {
      "cell_type": "code",
      "source": [
        "#@title 2.Write a Python program to calculate the difference between the two lists.\n",
        "lst1=[4,8,10,14]\n",
        "lst2=[2,3,5,6]\n",
        "diff1=list(set(lst1)-set(lst2))\n",
        "diff2=list(set(lst2)-set(lst1))\n",
        "total_diff=diff2+diff1\n",
        "print(total_diff)"
      ],
      "metadata": {
        "colab": {
          "base_uri": "https://localhost:8080/"
        },
        "id": "OrCpnkorDj5z",
        "outputId": "262cb09e-9007-4941-e1e9-3e92640db859"
      },
      "execution_count": null,
      "outputs": [
        {
          "output_type": "stream",
          "name": "stdout",
          "text": [
            "[2, 3, 5, 6, 8, 10, 4, 14]\n"
          ]
        }
      ]
    },
    {
      "cell_type": "code",
      "source": [
        "#@title 3.Write a Python program to access the index of a list.\n",
        "nums = [5, 15, 35, 8, 98]\n",
        "for index, num_val in enumerate(nums):\n",
        "  print(index,num_val)"
      ],
      "metadata": {
        "colab": {
          "base_uri": "https://localhost:8080/"
        },
        "id": "M_gTQpayD6q8",
        "outputId": "b8716633-ceaf-4d37-f8bc-30565345f746"
      },
      "execution_count": null,
      "outputs": [
        {
          "output_type": "stream",
          "name": "stdout",
          "text": [
            "0 5\n",
            "1 15\n",
            "2 35\n",
            "3 8\n",
            "4 98\n"
          ]
        }
      ]
    },
    {
      "cell_type": "code",
      "source": [
        "#@title 4.Write a Python program to convert a list of characters into a string.\n",
        "st=['s','o','u','r','a','v']\n",
        "new=''.join(st)\n",
        "print(new)"
      ],
      "metadata": {
        "colab": {
          "base_uri": "https://localhost:8080/"
        },
        "id": "P2gfnn_3GLS-",
        "outputId": "5a0e09bb-354b-4f24-c49d-b6ebc469f10f"
      },
      "execution_count": null,
      "outputs": [
        {
          "output_type": "stream",
          "name": "stdout",
          "text": [
            "sourav\n"
          ]
        }
      ]
    },
    {
      "cell_type": "code",
      "source": [
        "#@title 5.Write a Python program to find the index of an item in a specified list.\n",
        "num=[2,6,88,22,35]\n",
        "n=int(input(\"enter the value you want to search:\"))\n",
        "for i, value in enumerate(num):\n",
        "  if value==n:\n",
        "    print(i)"
      ],
      "metadata": {
        "colab": {
          "base_uri": "https://localhost:8080/"
        },
        "id": "lSuzeZJOGt-P",
        "outputId": "a96161e8-f804-4f2a-fdf3-36ad4ec2ee25"
      },
      "execution_count": null,
      "outputs": [
        {
          "output_type": "stream",
          "name": "stdout",
          "text": [
            "enter the value you want to search:88\n",
            "2\n"
          ]
        }
      ]
    },
    {
      "cell_type": "code",
      "source": [
        "#@title 6.Write a Python program to flatten a shallow list.\n",
        "lst=[[2,4,3],[1,5,6], [9], [7,9,0]]\n",
        "new=[]\n",
        "for i in lst:\n",
        "  # if type(lst)==list: #checking if the list object is a list or not\n",
        "    new.extend(i)\n",
        "print(new)\n"
      ],
      "metadata": {
        "colab": {
          "base_uri": "https://localhost:8080/"
        },
        "id": "bm1BuFFXHyJT",
        "outputId": "f5907c05-bb60-4c7a-d394-101dbedefe52"
      },
      "execution_count": null,
      "outputs": [
        {
          "output_type": "stream",
          "name": "stdout",
          "text": [
            "[2, 4, 3, 1, 5, 6, 9, 7, 9, 0]\n"
          ]
        }
      ]
    },
    {
      "cell_type": "code",
      "source": [
        "#@title 7. Write a Python program to append a list to the second list.\n",
        "list1 = [1, 2, 3, 0]\n",
        "list2 = ['Red', 'Green', 'Black']\n",
        "res=list1+list2\n",
        "print(res)"
      ],
      "metadata": {
        "colab": {
          "base_uri": "https://localhost:8080/"
        },
        "id": "mqT29mt_KROr",
        "outputId": "6ce20595-4fd1-4b16-8ffc-f34c795bbffa"
      },
      "execution_count": null,
      "outputs": [
        {
          "output_type": "stream",
          "name": "stdout",
          "text": [
            "[1, 2, 3, 0, 'Red', 'Green', 'Black']\n"
          ]
        }
      ]
    },
    {
      "cell_type": "code",
      "source": [
        "#@title 8.Write a Python program to select an item randomly from a list.\n",
        "import random\n",
        "color_list = ['Red', 'Blue', 'Green', 'White', 'Black']\n",
        "print(random.choice(color_list))"
      ],
      "metadata": {
        "colab": {
          "base_uri": "https://localhost:8080/"
        },
        "id": "obSJAJqMKqf8",
        "outputId": "8bbff8c0-c9c1-40ae-eee9-4357eb83eaf9"
      },
      "execution_count": null,
      "outputs": [
        {
          "output_type": "stream",
          "name": "stdout",
          "text": [
            "Black\n"
          ]
        }
      ]
    },
    {
      "cell_type": "code",
      "source": [
        "#@title 9.Write a Python program to check whether two lists are circularly identical.\n",
        "list1 = [10, 10, 0, 0, 10]\n",
        "list2 = [10, 10, 10, 0, 0]\n",
        "list3 = [1, 10, 10, 0, 0]\n",
        "\n",
        "# print('Compare list1 and list2')\n",
        "# print(' '.join(map(str, list2)) in ' '.join(map(str, list1 * 2)))\n",
        "# print('Compare list1 and list3')\n",
        "# print(' '.join(map(str, list3)) in ' '.join(map(str, list1 * 2)))\n",
        "\n",
        "circular=list1+list2\n",
        "if ''.join(map(str,list2)) in ''.join(map(str,circular)):\n",
        "  print(True)\n",
        "else:\n",
        "  print(False)\n",
        "circular2=list1+list3\n",
        "if ''.join(map(str,list3)) in ''.join(map(str,circular2)):\n",
        "  print(True)\n",
        "else:\n",
        "  print(False)\n"
      ],
      "metadata": {
        "colab": {
          "base_uri": "https://localhost:8080/"
        },
        "id": "ip0CUvolLzcm",
        "outputId": "7921e0b2-b294-4aff-bffb-8d18d71686aa"
      },
      "execution_count": null,
      "outputs": [
        {
          "output_type": "stream",
          "name": "stdout",
          "text": [
            "True\n",
            "True\n"
          ]
        }
      ]
    },
    {
      "cell_type": "code",
      "source": [
        "#@title 10.Write a Python program to find the second smallest number in a list.\n",
        "lst=[5, 2, 8, 3, 1, 9, 4, 7, 6]\n",
        "smal=lst[0]\n",
        "smal2=lst[1]\n",
        "for i in range(0,len(lst)):\n",
        "  if lst[i]<smal:\n",
        "    smal2=smal\n",
        "    smal=lst[i]\n",
        "print(smal2)\n",
        "\n",
        "#approach-2 using bubble sort\n",
        "for i in range(0,len(lst)):\n",
        "  for j in range(0,len(lst)-1):\n",
        "    if lst[j]>lst[j+1]:\n",
        "      lst[j],lst[j+1]=lst[j+1],lst[j]\n",
        "print(lst[1])\n",
        "\n",
        "#approach-3 using sort function\n",
        "lst.sort()\n",
        "print(lst[1])"
      ],
      "metadata": {
        "colab": {
          "base_uri": "https://localhost:8080/"
        },
        "id": "TbrUHSodmRkT",
        "outputId": "c1069db4-6b78-4cf2-ac56-720bb17fde6c"
      },
      "execution_count": null,
      "outputs": [
        {
          "output_type": "stream",
          "name": "stdout",
          "text": [
            "2\n",
            "2\n",
            "2\n"
          ]
        }
      ]
    },
    {
      "cell_type": "code",
      "source": [
        "#@title 11.Write a Python program to find the second largest number in a list.\n",
        "lst=[5, 2, 8, 3, 1, 9, 4, 7, 6]\n",
        "lar=lst[0]\n",
        "lsr2=lst[1]\n",
        "for i in range(2,len(lst)):\n",
        "  if lst[i]>lar:\n",
        "    lar2=lar\n",
        "    lar=lst[i]\n",
        "print(lar2)"
      ],
      "metadata": {
        "colab": {
          "base_uri": "https://localhost:8080/"
        },
        "id": "mvWkYETIyQ5O",
        "outputId": "e7baadd1-bb10-4a64-b833-cd30dda44ebb"
      },
      "execution_count": null,
      "outputs": [
        {
          "output_type": "stream",
          "name": "stdout",
          "text": [
            "8\n",
            "8\n"
          ]
        }
      ]
    },
    {
      "cell_type": "code",
      "source": [
        "#@title 11.Write a Python program to get unique values from a list.\n",
        "lst=[10, 20, 30, 40, 20, 50, 60, 40]\n",
        "new=set(lst)\n",
        "print(new)"
      ],
      "metadata": {
        "colab": {
          "base_uri": "https://localhost:8080/"
        },
        "id": "DcQBf4gmE6IB",
        "outputId": "af52dcfd-ac2e-41fa-afc9-79ae9becd8e4"
      },
      "execution_count": null,
      "outputs": [
        {
          "output_type": "stream",
          "name": "stdout",
          "text": [
            "{40, 10, 50, 20, 60, 30}\n"
          ]
        }
      ]
    },
    {
      "cell_type": "code",
      "source": [
        "#@title 12.Write a Python program to get the frequency of elements in a list.\n",
        "lst=[10,10,20,10,10,20,20,20,20,40,40,50,50,30]\n",
        "import collections\n",
        "res=collections.Counter(lst)\n",
        "print(res)\n",
        "\n",
        "#approch-2 without using function\n",
        "count={}\n",
        "for i in lst:\n",
        "  if i in count:\n",
        "    count[i]+=1\n",
        "  else:\n",
        "    count[i]=1\n",
        "print(count)"
      ],
      "metadata": {
        "colab": {
          "base_uri": "https://localhost:8080/"
        },
        "id": "qpobJsx5B1zG",
        "outputId": "1fc646c0-3ffc-4f01-fbec-515c70a41554"
      },
      "execution_count": null,
      "outputs": [
        {
          "output_type": "stream",
          "name": "stdout",
          "text": [
            "Counter({20: 5, 10: 4, 40: 2, 50: 2, 30: 1})\n",
            "{10: 4, 20: 5, 40: 2, 50: 2, 30: 1}\n"
          ]
        }
      ]
    },
    {
      "cell_type": "code",
      "source": [
        "#@title 13.Write a Python program to count the number of elements in a list within a specified range.\n",
        "lst=[5, 2, 8, 3, 1, 9, 4, 7, 6,34,44, 69,28,88, 99, 42,81,62]\n",
        "n1=int(input(\"Enter the min range: \"))\n",
        "n2=int(input(\"Enter the max range: \"))\n",
        "count=0\n",
        "for i in range(0,len(lst)):\n",
        "  if lst[i]>=n1 and lst[i]<=n2:\n",
        "    count+=1\n",
        "print(count)"
      ],
      "metadata": {
        "colab": {
          "base_uri": "https://localhost:8080/"
        },
        "id": "Cq6ASRxQFq_n",
        "outputId": "2a2590cd-103b-4684-dcd8-7b02891db039"
      },
      "execution_count": null,
      "outputs": [
        {
          "output_type": "stream",
          "name": "stdout",
          "text": [
            "Enter the min range: 20\n",
            "Enter the max range: 100\n",
            "9\n"
          ]
        }
      ]
    },
    {
      "cell_type": "code",
      "source": [
        "#@title 14.Write a Python program to check whether a list contains a sublist.\n",
        "lst=[2,3,4,5,6,7]\n",
        "s=[3,4,5]\n",
        "flag=False\n",
        "if s==[]:\n",
        "  flag=True\n",
        "  print(flag)\n",
        "elif s==lst:\n",
        "  flag=True\n",
        "  print(flag)\n",
        "elif len(s)>len(lst):\n",
        "  flag=False\n",
        "  print(flag)\n",
        "else:\n",
        "  for i in range(0,len(lst)):\n",
        "    if lst[i]==s[0]:\n",
        "      n=1\n",
        "      while (n<len(s)) and (lst[i+n]==s[n]):\n",
        "        n+=1\n",
        "      if n==len(s):\n",
        "        flag=True\n",
        "        print(flag)"
      ],
      "metadata": {
        "id": "ajIIcy37Mh_v",
        "colab": {
          "base_uri": "https://localhost:8080/"
        },
        "outputId": "23de6c89-9f26-468d-f7b2-60a9dcdf6f9e"
      },
      "execution_count": 10,
      "outputs": [
        {
          "output_type": "stream",
          "name": "stdout",
          "text": [
            "True\n"
          ]
        }
      ]
    },
    {
      "cell_type": "code",
      "source": [
        "#@title 15.Write a Python program to generate all sublists of a list.\n",
        "from itertools import combinations\n",
        "lst=[10, 20, 30, 40]\n",
        "s=[]\n",
        "for i in range(0,len(lst)):\n",
        "  temp=[list(x) for x in combinations(lst,i)]\n",
        "  if len(lst)>0:\n",
        "    s.extend(temp)\n",
        "  print(s)"
      ],
      "metadata": {
        "colab": {
          "base_uri": "https://localhost:8080/"
        },
        "id": "HaAIdYaFcV_f",
        "outputId": "7e7ed62b-fe34-4587-ed7f-52fbc8aa95ba"
      },
      "execution_count": 1,
      "outputs": [
        {
          "output_type": "stream",
          "name": "stdout",
          "text": [
            "[[]]\n",
            "[[], [10], [20], [30], [40]]\n",
            "[[], [10], [20], [30], [40], [10, 20], [10, 30], [10, 40], [20, 30], [20, 40], [30, 40]]\n",
            "[[], [10], [20], [30], [40], [10, 20], [10, 30], [10, 40], [20, 30], [20, 40], [30, 40], [10, 20, 30], [10, 20, 40], [10, 30, 40], [20, 30, 40]]\n"
          ]
        }
      ]
    },
    {
      "cell_type": "code",
      "source": [
        "#@title 16.Write a Python program that uses the Sieve of Eratosthenes method to compute prime numbers up to a specified number.\n",
        "n=int(input(\"Enter the range: \"))\n",
        "prime_list=[]\n",
        "for i in range(2,n+1):\n",
        "  if i not in prime_list:\n",
        "    print(i)\n",
        "    for j in range(i*i,n+1,i):\n",
        "      prime_list.append(j)\n",
        "print(prime_list)"
      ],
      "metadata": {
        "colab": {
          "base_uri": "https://localhost:8080/"
        },
        "id": "I2CLgzadCzY2",
        "outputId": "73b049fd-467d-413c-eb8f-76ca5ab402fa"
      },
      "execution_count": 2,
      "outputs": [
        {
          "output_type": "stream",
          "name": "stdout",
          "text": [
            "Enter the range: 100\n",
            "2\n",
            "3\n",
            "5\n",
            "7\n",
            "11\n",
            "13\n",
            "17\n",
            "19\n",
            "23\n",
            "29\n",
            "31\n",
            "37\n",
            "41\n",
            "43\n",
            "47\n",
            "53\n",
            "59\n",
            "61\n",
            "67\n",
            "71\n",
            "73\n",
            "79\n",
            "83\n",
            "89\n",
            "97\n",
            "[4, 6, 8, 10, 12, 14, 16, 18, 20, 22, 24, 26, 28, 30, 32, 34, 36, 38, 40, 42, 44, 46, 48, 50, 52, 54, 56, 58, 60, 62, 64, 66, 68, 70, 72, 74, 76, 78, 80, 82, 84, 86, 88, 90, 92, 94, 96, 98, 100, 9, 12, 15, 18, 21, 24, 27, 30, 33, 36, 39, 42, 45, 48, 51, 54, 57, 60, 63, 66, 69, 72, 75, 78, 81, 84, 87, 90, 93, 96, 99, 25, 30, 35, 40, 45, 50, 55, 60, 65, 70, 75, 80, 85, 90, 95, 100, 49, 56, 63, 70, 77, 84, 91, 98]\n"
          ]
        }
      ]
    },
    {
      "cell_type": "code",
      "source": [
        "#@title 17.Write a Python program to create a list by concatenating a given list with a range from 1 to n.\n",
        "lst=['p', 'q']\n",
        "n=4\n",
        "new=['{}{}'.format(x,y) for y in range(1,n+1) for x in lst]\n",
        "print(new)"
      ],
      "metadata": {
        "colab": {
          "base_uri": "https://localhost:8080/"
        },
        "id": "QKiNEymUK-CY",
        "outputId": "463c2010-b4ce-45aa-8a07-468688b64cf7"
      },
      "execution_count": 3,
      "outputs": [
        {
          "output_type": "stream",
          "name": "stdout",
          "text": [
            "['p1', 'q1', 'p2', 'q2', 'p3', 'q3', 'p4', 'q4']\n"
          ]
        }
      ]
    },
    {
      "cell_type": "code",
      "source": [
        "#@title 18.Write a Python program to get a variable with an identification number or string.\n",
        "x=100\n",
        "print(format(id(x),'x'))\n",
        "s='sourav'\n",
        "print(format(id(s),'x'))"
      ],
      "metadata": {
        "colab": {
          "base_uri": "https://localhost:8080/"
        },
        "id": "VxPxE4hpNWtW",
        "outputId": "536083bd-67f4-48d2-b3fe-5868e7aeaeba"
      },
      "execution_count": 5,
      "outputs": [
        {
          "output_type": "stream",
          "name": "stdout",
          "text": [
            "7f84a9418d50\n",
            "7f845ecd93f0\n"
          ]
        }
      ]
    },
    {
      "cell_type": "code",
      "source": [
        "#@title 19.Write a Python program to find common items in two lists.\n",
        "lst=[10,2,3,5,44]\n",
        "lst2=[1,89,2,22,5]\n",
        "common=(set(lst)&set(lst2))\n",
        "print(common)"
      ],
      "metadata": {
        "colab": {
          "base_uri": "https://localhost:8080/"
        },
        "id": "phXibcOsPQ13",
        "outputId": "3ff6fc4d-2c2c-4fd6-fa0f-f7a7fca1cf00"
      },
      "execution_count": 11,
      "outputs": [
        {
          "output_type": "stream",
          "name": "stdout",
          "text": [
            "{2, 5}\n"
          ]
        }
      ]
    },
    {
      "cell_type": "code",
      "source": [
        "#@title 20.Write a Python program to change the position of every n-th value to the (n+1)th in a list.\n",
        "from itertools import zip_longest,chain,tee\n",
        "lst=[0,1,2,3,4,5]\n",
        "lst1,lst2=tee(iter(lst),2)\n",
        "print(list(chain.from_iterable(zip_longest(lst[1::2], lst[::2]))))"
      ],
      "metadata": {
        "colab": {
          "base_uri": "https://localhost:8080/"
        },
        "id": "QfFP1Bs1Sd8Z",
        "outputId": "a9c32c4e-bf62-4bde-add8-8c930d80c639"
      },
      "execution_count": 12,
      "outputs": [
        {
          "output_type": "stream",
          "name": "stdout",
          "text": [
            "[1, 0, 3, 2, 5, 4]\n"
          ]
        }
      ]
    },
    {
      "cell_type": "code",
      "source": [
        "#@title 21.Write a Python program to convert a list of multiple integers into a single integer.\n",
        "lst=[11,33,50]\n",
        "lst1=['s','o','u','r','a','v']\n",
        "s=int(''.join(map(str,lst)))\n",
        "s2=''.join(map(str,lst1))\n",
        "print(s)\n",
        "print(s2)"
      ],
      "metadata": {
        "colab": {
          "base_uri": "https://localhost:8080/"
        },
        "id": "krIWqbJ7QtuH",
        "outputId": "4624c7ba-7d39-4a79-8bdd-28b03add03b0"
      },
      "execution_count": 20,
      "outputs": [
        {
          "output_type": "stream",
          "name": "stdout",
          "text": [
            "113350\n",
            "sourav\n"
          ]
        }
      ]
    },
    {
      "cell_type": "code",
      "source": [
        "#@title 22.Write a Python program to split a list based on the first character of a word.\n",
        "from itertools import groupby\n",
        "from operator import itemgetter\n",
        "lst=['be','have','do','say','get','make','go','know','take','see','come','think','look','want','give','use','find','tell','ask','work','seem','feel','leave','call']\n",
        "for letter,words in groupby(sorted(lst), key=itemgetter(0)):\n",
        "  print(letter)\n",
        "  for i in words:\n",
        "    print(i)"
      ],
      "metadata": {
        "colab": {
          "base_uri": "https://localhost:8080/"
        },
        "id": "hWUYGcMWUhiU",
        "outputId": "abae562e-e24a-43ef-cb34-e6ae7c3968fd"
      },
      "execution_count": 21,
      "outputs": [
        {
          "output_type": "stream",
          "name": "stdout",
          "text": [
            "a\n",
            "ask\n",
            "b\n",
            "be\n",
            "c\n",
            "call\n",
            "come\n",
            "d\n",
            "do\n",
            "f\n",
            "feel\n",
            "find\n",
            "g\n",
            "get\n",
            "give\n",
            "go\n",
            "h\n",
            "have\n",
            "k\n",
            "know\n",
            "l\n",
            "leave\n",
            "look\n",
            "m\n",
            "make\n",
            "s\n",
            "say\n",
            "see\n",
            "seem\n",
            "t\n",
            "take\n",
            "tell\n",
            "think\n",
            "u\n",
            "use\n",
            "w\n",
            "want\n",
            "work\n"
          ]
        }
      ]
    },
    {
      "cell_type": "code",
      "source": [
        "#@title 23.Write a Python program to create multiple lists.\n",
        "obj={}\n",
        "for i in range(1,21):\n",
        "  obj[str(i)]=[]\n",
        "print(obj)"
      ],
      "metadata": {
        "colab": {
          "base_uri": "https://localhost:8080/"
        },
        "id": "WREDLKxrXW2N",
        "outputId": "6c914be2-2228-4aa1-fff0-ff99e3c93f9b"
      },
      "execution_count": 23,
      "outputs": [
        {
          "output_type": "stream",
          "name": "stdout",
          "text": [
            "{'1': [], '2': [], '3': [], '4': [], '5': [], '6': [], '7': [], '8': [], '9': [], '10': [], '11': [], '12': [], '13': [], '14': [], '15': [], '16': [], '17': [], '18': [], '19': [], '20': []}\n"
          ]
        }
      ]
    },
    {
      "cell_type": "code",
      "source": [
        "#@title 24.Write a Python program to find missing and additional values in two lists.Sample data : Missing values in second list: b,a,cAdditional values in second list: g,h\n",
        "list1 = ['a','b','c','d','e','f']\n",
        "list2 = ['d','e','f','g','h']\n",
        "diff1=list(set(list1)-set(list2))\n",
        "diff2=list(set(list2)-set(list1))\n",
        "missing=diff2+diff1\n",
        "print('missing value in second list',missing)\n",
        "print('Additional value in second list',diff2)\n"
      ],
      "metadata": {
        "colab": {
          "base_uri": "https://localhost:8080/"
        },
        "id": "jxQJyrNsYRH7",
        "outputId": "2828ee49-ac40-49e6-82f9-f337ef9a87a7"
      },
      "execution_count": 27,
      "outputs": [
        {
          "output_type": "stream",
          "name": "stdout",
          "text": [
            "missing value in second list ['h', 'g', 'a', 'b', 'c']\n",
            "Additional value in second list ['h', 'g']\n"
          ]
        }
      ]
    },
    {
      "cell_type": "code",
      "source": [
        "#@title 25.Write a Python program to split a list into different variables.\n",
        "lst=[1,2,3,4]\n",
        "a,b,c,d=lst\n",
        "print(a)\n",
        "print(b)\n",
        "print(c)\n",
        "print(d)"
      ],
      "metadata": {
        "colab": {
          "base_uri": "https://localhost:8080/"
        },
        "id": "0EaF52lE2cXp",
        "outputId": "f5c24478-15e1-46ed-b994-ed7bdcba7e79"
      },
      "execution_count": 28,
      "outputs": [
        {
          "output_type": "stream",
          "name": "stdout",
          "text": [
            "1\n",
            "2\n",
            "3\n",
            "4\n"
          ]
        }
      ]
    },
    {
      "cell_type": "code",
      "source": [
        "#@title 26.Write a Python program to generate groups of five consecutive numbers in a list.\n",
        "l=[[5*i + j for j in range(1,6)] for i in range(5)]\n",
        "print(l)"
      ],
      "metadata": {
        "colab": {
          "base_uri": "https://localhost:8080/"
        },
        "id": "JFByqs1n27x0",
        "outputId": "ba41500d-0771-45f3-d32b-d95314743991"
      },
      "execution_count": 30,
      "outputs": [
        {
          "output_type": "stream",
          "name": "stdout",
          "text": [
            "[[1, 2, 3, 4, 5], [6, 7, 8, 9, 10], [11, 12, 13, 14, 15], [16, 17, 18, 19, 20], [21, 22, 23, 24, 25]]\n"
          ]
        }
      ]
    },
    {
      "cell_type": "code",
      "source": [
        "#@title 27.Write a Python program to convert a pair of values into a sorted unique array.\n",
        "L = [(1, 2), (3, 4), (1, 2), (5, 6), (7, 8), (1, 2), (3, 4), (3, 4),(7, 8), (9, 10)]\n",
        "a=sorted(set().union(*L))\n",
        "print(a)"
      ],
      "metadata": {
        "colab": {
          "base_uri": "https://localhost:8080/"
        },
        "id": "0Hse81FY4NfA",
        "outputId": "0899f06e-b472-41e8-9ea1-24197efc1192"
      },
      "execution_count": 31,
      "outputs": [
        {
          "output_type": "stream",
          "name": "stdout",
          "text": [
            "[1, 2, 3, 4, 5, 6, 7, 8, 9, 10]\n"
          ]
        }
      ]
    },
    {
      "cell_type": "code",
      "source": [
        "#@title 28.Write a Python program to select the odd items from a list.\n",
        "x = [1, 2, 3, 4, 5, 6, 7, 8, 9]\n",
        "for i in x:\n",
        "  if i%2!=0:\n",
        "    print(i)\n",
        "#approach-2\n",
        "print(x[::2])"
      ],
      "metadata": {
        "colab": {
          "base_uri": "https://localhost:8080/"
        },
        "id": "PVdeqrts8r1f",
        "outputId": "dfb8aa92-f441-44f2-df3d-a24c631a11c5"
      },
      "execution_count": 34,
      "outputs": [
        {
          "output_type": "stream",
          "name": "stdout",
          "text": [
            "1\n",
            "3\n",
            "5\n",
            "7\n",
            "9\n",
            "[1, 3, 5, 7, 9]\n"
          ]
        }
      ]
    },
    {
      "cell_type": "code",
      "source": [
        "#@title 29.Write a Python program to insert an element before each element of a list.\n",
        "lst=['Red', 'Green', 'Black']\n",
        "num=\"sam\"\n",
        "lst1=[]\n",
        "for i in lst:\n",
        "  lst1.append(num)\n",
        "  lst1.append(i)\n",
        "print(lst1)\n",
        "\n",
        "#using list comprehension\n",
        "l=[v for x in lst for v in (\"new\",x)]\n",
        "print(l)"
      ],
      "metadata": {
        "colab": {
          "base_uri": "https://localhost:8080/"
        },
        "id": "PpWBS9j99M2j",
        "outputId": "a14fc580-7d8c-42ac-c71f-0ecde7dfc02f"
      },
      "execution_count": 37,
      "outputs": [
        {
          "output_type": "stream",
          "name": "stdout",
          "text": [
            "['sam', 'Red', 'sam', 'Green', 'sam', 'Black']\n",
            "['new', 'Red', 'new', 'Green', 'new', 'Black']\n"
          ]
        }
      ]
    },
    {
      "cell_type": "code",
      "source": [
        "#@title 30.Write a Python program to print nested lists (each list on a new line) using the print() function.\n",
        "colors = [['Red'], ['Green'], ['Black']]\n",
        "for i in colors:\n",
        "  print(i)\n",
        "\n",
        "#using print function\n",
        "print('\\n'.join([str(lst) for lst in colors]))\n"
      ],
      "metadata": {
        "colab": {
          "base_uri": "https://localhost:8080/"
        },
        "id": "ygD-_-rDDUbS",
        "outputId": "ee3cba86-3133-4708-a9e8-f19fc1ddb877"
      },
      "execution_count": 41,
      "outputs": [
        {
          "output_type": "stream",
          "name": "stdout",
          "text": [
            "['Red']\n",
            "['Green']\n",
            "['Black']\n",
            "['Red']\n",
            "['Green']\n",
            "['Black']\n"
          ]
        }
      ]
    },
    {
      "cell_type": "code",
      "source": [],
      "metadata": {
        "id": "UN6pA0ysEiDa"
      },
      "execution_count": null,
      "outputs": []
    }
  ]
}